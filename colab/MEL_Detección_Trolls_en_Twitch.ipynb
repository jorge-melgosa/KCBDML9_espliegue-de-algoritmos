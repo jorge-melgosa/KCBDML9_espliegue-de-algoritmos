{
  "nbformat": 4,
  "nbformat_minor": 0,
  "metadata": {
    "accelerator": "GPU",
    "colab": {
      "name": "MEL - Detección Trolls en Twitch.ipynb",
      "provenance": [],
      "collapsed_sections": [
        "hgE9XB8ACVmQ",
        "Um68jx_F8mjF",
        "fuLtOjukEMIl",
        "ZvBWPoGGKwuJ",
        "Yr3SmFrUHCvN"
      ]
    },
    "kernelspec": {
      "display_name": "Python 3",
      "name": "python3"
    },
    "gpuClass": "standard"
  },
  "cells": [
    {
      "cell_type": "markdown",
      "metadata": {
        "id": "Cj8bcxFX85UO"
      },
      "source": [
        "# Práctica Final: detección de mensajes troll en chat de Twitch en tiempo real\n",
        "\n",
        "Durante este último año la plataforma de vídeo en streaming Twitch ha cogido mucha popularidad debido a la situación que hemos vivido debido al COVID-19. Por esto, mucha gente de todas las edades ha empezado a consumir esta plataforma de manera diaria.\n",
        "\n",
        "Como consecuencia, no sólo han aumentado las personas que ven contenido en Twitch, sino también el número de los denominados *trolls*, gente que pone comentarios ofensivos en los chat de los streamers.\n",
        "\n",
        "En esta práctica se desarrollará un sistema autónomo basado en IA y desplegado en GCP que detectará en tiempo real si los mensajes que se envían a un canal de Twitch son de un *troll* o no. La práctica constará de tres partes principales que serán evaluadas en la corrección:\n",
        "1. Entrenamiento e inferencia en Batch de un modelo usando Dataflow y AI Platform. **(3.5 puntos)**.\n",
        "2. Despliegue e inferencia online en microservicio con el modelo. **(3.5 puntos)**.\n",
        "3. Inferencia en streaming de un canal de Twitch con el microservicio anterior. **(3 puntos)**."
      ]
    },
    {
      "cell_type": "markdown",
      "metadata": {
        "id": "hgE9XB8ACVmQ"
      },
      "source": [
        "# Configuración de nuestro proyecto en GCP\n"
      ]
    },
    {
      "cell_type": "code",
      "metadata": {
        "id": "zAorVw7RCT9C",
        "colab": {
          "base_uri": "https://localhost:8080/"
        },
        "outputId": "b0415d87-54d5-4949-f82b-3d739a83c7b3"
      },
      "source": [
        "PROJECT_ID = \"kc-mel-practica-da\" #@param {type:\"string\"}\n",
        "! gcloud config set project $PROJECT_ID"
      ],
      "execution_count": 1,
      "outputs": [
        {
          "output_type": "stream",
          "name": "stdout",
          "text": [
            "Updated property [core/project].\n"
          ]
        }
      ]
    },
    {
      "cell_type": "code",
      "metadata": {
        "id": "hbAl8pSkCXCm"
      },
      "source": [
        "import sys\n",
        "\n",
        "# If you are running this notebook in Colab, run this cell and follow the\n",
        "# instructions to authenticate your GCP account. This provides access to your\n",
        "# Cloud Storage bucket and lets you submit training jobs and prediction\n",
        "# requests.\n",
        "\n",
        "if 'google.colab' in sys.modules:\n",
        "  from google.colab import auth as google_auth\n",
        "  google_auth.authenticate_user()\n",
        "\n",
        "# If you are running this notebook locally, replace the string below with the\n",
        "# path to your service account key and run this cell to authenticate your GCP\n",
        "# account.\n",
        "else:\n",
        "  %env GOOGLE_APPLICATION_CREDENTIALS ''\n"
      ],
      "execution_count": 2,
      "outputs": []
    },
    {
      "cell_type": "code",
      "metadata": {
        "id": "n6Zpx14FCfXy"
      },
      "source": [
        "BUCKET_NAME = \"kc-mel-practica-da\" #@param {type:\"string\"}\n",
        "REGION = \"europe-west1\" #@param {type:\"string\"}"
      ],
      "execution_count": 3,
      "outputs": []
    },
    {
      "cell_type": "code",
      "metadata": {
        "id": "lE4V-Xt0ChSb",
        "colab": {
          "base_uri": "https://localhost:8080/"
        },
        "outputId": "28cd06a7-bad5-436d-d553-8d84ba8e42a2"
      },
      "source": [
        "! gsutil ls -al gs://$BUCKET_NAME"
      ],
      "execution_count": 4,
      "outputs": [
        {
          "output_type": "stream",
          "name": "stdout",
          "text": [
            "   2756023  2022-07-08T13:39:14Z  gs://kc-mel-practica-da/data.json#1657287554802046  metageneration=1\n",
            "TOTAL: 1 objects, 2756023 bytes (2.63 MiB)\n"
          ]
        }
      ]
    },
    {
      "cell_type": "markdown",
      "metadata": {
        "id": "3D8Qw14y_nRa"
      },
      "source": [
        "# Entrenamiento e inferencia en Batch\n",
        "\n",
        "Para esta primera parte se va a utilizar [Tweets Dataset for Detection of Cyber-Trolls](https://www.kaggle.com/dataturks/dataset-for-detection-of-cybertrolls). El objetivo es desarrollar un clasificador binario para detectar si el mensaje recibido es troll (1) o no (0). **Las métricas obtenidas del entrenamiento y la inferencia no se tendrán en cuenta para la evaluación de la práctica, la importancia está en la arquitectura de la solución**.\n",
        "\n",
        "A continuación os dejo un diagrama con la arquitectura que se va a desarrollar:\n",
        "\n",
        "![batch_diagram](https://drive.google.com/uc?export=view&id=1h1BkIunyKSkJYFRbXKNWpHOZ_rDUyGAT)"
      ]
    },
    {
      "cell_type": "markdown",
      "metadata": {
        "id": "qM_dh-471gIq"
      },
      "source": [
        "A continuación, se van a subir los datos de entrenamiento al bucket del proyecto que se haya creado. **Importante:** crea el bucket en una única región para evitar problemas más adelante."
      ]
    },
    {
      "cell_type": "code",
      "metadata": {
        "id": "Sqp4L_nmUjAc",
        "colab": {
          "base_uri": "https://localhost:8080/"
        },
        "outputId": "c87b9cea-4c38-4222-e8f9-11ffe008c699"
      },
      "source": [
        "# Upload data to your bucket\n",
        "! wget https://storage.googleapis.com/twitch-practice-keepcoding/data.json -O - | gsutil cp - gs://$BUCKET_NAME/data.json"
      ],
      "execution_count": 5,
      "outputs": [
        {
          "output_type": "stream",
          "name": "stdout",
          "text": [
            "--2022-07-08 13:39:05--  https://storage.googleapis.com/twitch-practice-keepcoding/data.json\n",
            "Resolving storage.googleapis.com (storage.googleapis.com)... 74.125.200.128, 74.125.68.128, 74.125.24.128, ...\n",
            "Connecting to storage.googleapis.com (storage.googleapis.com)|74.125.200.128|:443... connected.\n",
            "HTTP request sent, awaiting response... 200 OK\n",
            "Length: 2756023 (2.6M) [application/json]\n",
            "Saving to: ‘STDOUT’\n",
            "\n",
            "-                     0%[                    ]       0  --.-KB/s               Copying from <STDIN>...\n",
            "-                   100%[===================>]   2.63M   525KB/s    in 5.1s    \n",
            "\n",
            "2022-07-08 13:39:10 (525 KB/s) - written to stdout [2756023/2756023]\n",
            "\n",
            "/ [1 files][    0.0 B/    0.0 B]                                                \n",
            "Operation completed over 1 objects.                                              \n"
          ]
        }
      ]
    },
    {
      "cell_type": "markdown",
      "metadata": {
        "id": "vCQQ9j2I11tg"
      },
      "source": [
        "Ahora se crea el directorio dónde vas a desarrollar esta primera parte de la práctica."
      ]
    },
    {
      "cell_type": "code",
      "metadata": {
        "id": "PsblBlJ6RrGm",
        "colab": {
          "base_uri": "https://localhost:8080/"
        },
        "outputId": "c4888093-7560-4d43-c01c-2cf21f079964"
      },
      "source": [
        "%mkdir /content/batch"
      ],
      "execution_count": 5,
      "outputs": [
        {
          "output_type": "stream",
          "name": "stdout",
          "text": [
            "mkdir: cannot create directory ‘/content/batch’: File exists\n"
          ]
        }
      ]
    },
    {
      "cell_type": "markdown",
      "metadata": {
        "id": "nyK51quU1_oi"
      },
      "source": [
        "Se establece el directorio de trabajo que hemos creado."
      ]
    },
    {
      "cell_type": "code",
      "metadata": {
        "id": "s7ybSaotRwkP",
        "colab": {
          "base_uri": "https://localhost:8080/"
        },
        "outputId": "1f4212ff-3c75-4cbd-80f8-72c057831859"
      },
      "source": [
        "import os\n",
        "\n",
        "# Set the working directory to the sample code directory\n",
        "%cd /content/batch\n",
        "\n",
        "WORK_DIR = os.getcwd()"
      ],
      "execution_count": 6,
      "outputs": [
        {
          "output_type": "stream",
          "name": "stdout",
          "text": [
            "/content/batch\n"
          ]
        }
      ]
    },
    {
      "cell_type": "markdown",
      "metadata": {
        "id": "4NSd4bAo2aj_"
      },
      "source": [
        "Ahora se descargarán los datos en el workspace de Colab para trabajar en local."
      ]
    },
    {
      "cell_type": "code",
      "metadata": {
        "id": "qOmUJSg1JCgg",
        "colab": {
          "base_uri": "https://localhost:8080/"
        },
        "outputId": "eb875801-96a6-4653-b5e8-bf8d6b76e429"
      },
      "source": [
        "! wget https://storage.googleapis.com/twitch-practice-keepcoding/data.json"
      ],
      "execution_count": 7,
      "outputs": [
        {
          "output_type": "stream",
          "name": "stdout",
          "text": [
            "--2022-07-08 22:34:58--  https://storage.googleapis.com/twitch-practice-keepcoding/data.json\n",
            "Resolving storage.googleapis.com (storage.googleapis.com)... 142.250.98.128, 142.250.97.128, 74.125.196.128, ...\n",
            "Connecting to storage.googleapis.com (storage.googleapis.com)|142.250.98.128|:443... connected.\n",
            "HTTP request sent, awaiting response... 200 OK\n",
            "Length: 2756023 (2.6M) [application/json]\n",
            "Saving to: ‘data.json.1’\n",
            "\n",
            "\rdata.json.1           0%[                    ]       0  --.-KB/s               \rdata.json.1         100%[===================>]   2.63M  --.-KB/s    in 0.01s   \n",
            "\n",
            "2022-07-08 22:34:58 (230 MB/s) - ‘data.json.1’ saved [2756023/2756023]\n",
            "\n"
          ]
        }
      ]
    },
    {
      "cell_type": "markdown",
      "metadata": {
        "id": "eRoW6zyg2kEz"
      },
      "source": [
        "Se establecen las dependencias que se usarán en la práctica. Se pueden añadir y quitar las dependencias que no se usen o viceversa."
      ]
    },
    {
      "cell_type": "code",
      "metadata": {
        "id": "9s0-8_JK_z2D",
        "colab": {
          "base_uri": "https://localhost:8080/"
        },
        "outputId": "bc1792a9-9bc3-463b-fdc7-e5c1e5ef00d2"
      },
      "source": [
        "%%writefile requirements.txt\n",
        "\n",
        "apache-beam[gcp]==2.24.0\n",
        "tensorflow\n",
        "gensim==3.6.0\n",
        "fsspec==0.8.4\n",
        "gcsfs==0.7.1\n",
        "numpy==1.20.0"
      ],
      "execution_count": 8,
      "outputs": [
        {
          "output_type": "stream",
          "name": "stdout",
          "text": [
            "Overwriting requirements.txt\n"
          ]
        }
      ]
    },
    {
      "cell_type": "markdown",
      "metadata": {
        "id": "yIl8lrPp2x2j"
      },
      "source": [
        "Instalamos las dependencias. **No olvidarse de reiniciar el entorno al instalar y establecer las variables y credenciales de GCP al arrancar.**"
      ]
    },
    {
      "cell_type": "code",
      "metadata": {
        "id": "ZS6P8A4c_8le",
        "colab": {
          "base_uri": "https://localhost:8080/"
        },
        "outputId": "6952330f-4963-4cd5-bd0e-81cb36755a48"
      },
      "source": [
        "! pip install -r requirements.txt"
      ],
      "execution_count": 9,
      "outputs": [
        {
          "output_type": "stream",
          "name": "stdout",
          "text": [
            "Looking in indexes: https://pypi.org/simple, https://us-python.pkg.dev/colab-wheels/public/simple/\n",
            "Requirement already satisfied: apache-beam[gcp]==2.24.0 in /usr/local/lib/python3.7/dist-packages (from -r requirements.txt (line 2)) (2.24.0)\n",
            "Requirement already satisfied: tensorflow in /usr/local/lib/python3.7/dist-packages (from -r requirements.txt (line 3)) (2.8.2+zzzcolab20220527125636)\n",
            "Requirement already satisfied: gensim==3.6.0 in /usr/local/lib/python3.7/dist-packages (from -r requirements.txt (line 4)) (3.6.0)\n",
            "Requirement already satisfied: fsspec==0.8.4 in /usr/local/lib/python3.7/dist-packages (from -r requirements.txt (line 5)) (0.8.4)\n",
            "Requirement already satisfied: gcsfs==0.7.1 in /usr/local/lib/python3.7/dist-packages (from -r requirements.txt (line 6)) (0.7.1)\n",
            "Requirement already satisfied: numpy==1.20.0 in /usr/local/lib/python3.7/dist-packages (from -r requirements.txt (line 7)) (1.20.0)\n",
            "Requirement already satisfied: six>=1.5.0 in /usr/local/lib/python3.7/dist-packages (from gensim==3.6.0->-r requirements.txt (line 4)) (1.15.0)\n",
            "Requirement already satisfied: scipy>=0.18.1 in /usr/local/lib/python3.7/dist-packages (from gensim==3.6.0->-r requirements.txt (line 4)) (1.4.1)\n",
            "Requirement already satisfied: smart-open>=1.2.1 in /usr/local/lib/python3.7/dist-packages (from gensim==3.6.0->-r requirements.txt (line 4)) (5.2.1)\n",
            "Requirement already satisfied: decorator in /usr/local/lib/python3.7/dist-packages (from gcsfs==0.7.1->-r requirements.txt (line 6)) (4.4.2)\n",
            "Requirement already satisfied: google-auth>=1.2 in /usr/local/lib/python3.7/dist-packages (from gcsfs==0.7.1->-r requirements.txt (line 6)) (1.35.0)\n",
            "Requirement already satisfied: aiohttp in /usr/local/lib/python3.7/dist-packages (from gcsfs==0.7.1->-r requirements.txt (line 6)) (3.8.1)\n",
            "Requirement already satisfied: google-auth-oauthlib in /usr/local/lib/python3.7/dist-packages (from gcsfs==0.7.1->-r requirements.txt (line 6)) (0.4.6)\n",
            "Requirement already satisfied: requests in /usr/local/lib/python3.7/dist-packages (from gcsfs==0.7.1->-r requirements.txt (line 6)) (2.28.1)\n",
            "Requirement already satisfied: pytz>=2018.3 in /usr/local/lib/python3.7/dist-packages (from apache-beam[gcp]==2.24.0->-r requirements.txt (line 2)) (2022.1)\n",
            "Requirement already satisfied: fastavro<0.24,>=0.21.4 in /usr/local/lib/python3.7/dist-packages (from apache-beam[gcp]==2.24.0->-r requirements.txt (line 2)) (0.23.6)\n",
            "Requirement already satisfied: httplib2<0.18.0,>=0.8 in /usr/local/lib/python3.7/dist-packages (from apache-beam[gcp]==2.24.0->-r requirements.txt (line 2)) (0.17.4)\n",
            "Requirement already satisfied: pyarrow<0.18.0,>=0.15.1 in /usr/local/lib/python3.7/dist-packages (from apache-beam[gcp]==2.24.0->-r requirements.txt (line 2)) (0.17.1)\n",
            "Requirement already satisfied: mock<3.0.0,>=1.0.1 in /usr/local/lib/python3.7/dist-packages (from apache-beam[gcp]==2.24.0->-r requirements.txt (line 2)) (2.0.0)\n",
            "Requirement already satisfied: crcmod<2.0,>=1.7 in /usr/local/lib/python3.7/dist-packages (from apache-beam[gcp]==2.24.0->-r requirements.txt (line 2)) (1.7)\n",
            "Requirement already satisfied: oauth2client<4,>=2.0.1 in /usr/local/lib/python3.7/dist-packages (from apache-beam[gcp]==2.24.0->-r requirements.txt (line 2)) (3.0.0)\n",
            "Requirement already satisfied: python-dateutil<3,>=2.8.0 in /usr/local/lib/python3.7/dist-packages (from apache-beam[gcp]==2.24.0->-r requirements.txt (line 2)) (2.8.2)\n",
            "Requirement already satisfied: grpcio<2,>=1.29.0 in /usr/local/lib/python3.7/dist-packages (from apache-beam[gcp]==2.24.0->-r requirements.txt (line 2)) (1.46.3)\n",
            "Requirement already satisfied: pymongo<4.0.0,>=3.8.0 in /usr/local/lib/python3.7/dist-packages (from apache-beam[gcp]==2.24.0->-r requirements.txt (line 2)) (3.12.3)\n",
            "Requirement already satisfied: pydot<2,>=1.2.0 in /usr/local/lib/python3.7/dist-packages (from apache-beam[gcp]==2.24.0->-r requirements.txt (line 2)) (1.3.0)\n",
            "Requirement already satisfied: future<1.0.0,>=0.18.2 in /usr/local/lib/python3.7/dist-packages (from apache-beam[gcp]==2.24.0->-r requirements.txt (line 2)) (0.18.2)\n",
            "Requirement already satisfied: hdfs<3.0.0,>=2.1.0 in /usr/local/lib/python3.7/dist-packages (from apache-beam[gcp]==2.24.0->-r requirements.txt (line 2)) (2.7.0)\n",
            "Requirement already satisfied: typing-extensions<3.8.0,>=3.7.0 in /usr/local/lib/python3.7/dist-packages (from apache-beam[gcp]==2.24.0->-r requirements.txt (line 2)) (3.7.4.3)\n",
            "Requirement already satisfied: protobuf<4,>=3.12.2 in /usr/local/lib/python3.7/dist-packages (from apache-beam[gcp]==2.24.0->-r requirements.txt (line 2)) (3.17.3)\n",
            "Requirement already satisfied: avro-python3!=1.9.2,<1.10.0,>=1.8.1 in /usr/local/lib/python3.7/dist-packages (from apache-beam[gcp]==2.24.0->-r requirements.txt (line 2)) (1.9.2.1)\n",
            "Requirement already satisfied: dill<0.3.2,>=0.3.1.1 in /usr/local/lib/python3.7/dist-packages (from apache-beam[gcp]==2.24.0->-r requirements.txt (line 2)) (0.3.1.1)\n",
            "Requirement already satisfied: google-cloud-core<2,>=0.28.1 in /usr/local/lib/python3.7/dist-packages (from apache-beam[gcp]==2.24.0->-r requirements.txt (line 2)) (1.7.2)\n",
            "Requirement already satisfied: google-cloud-datastore<2,>=1.7.1 in /usr/local/lib/python3.7/dist-packages (from apache-beam[gcp]==2.24.0->-r requirements.txt (line 2)) (1.8.0)\n",
            "Requirement already satisfied: google-cloud-pubsub<2,>=0.39.0 in /usr/local/lib/python3.7/dist-packages (from apache-beam[gcp]==2.24.0->-r requirements.txt (line 2)) (1.7.2)\n",
            "Requirement already satisfied: google-apitools<0.5.32,>=0.5.31 in /usr/local/lib/python3.7/dist-packages (from apache-beam[gcp]==2.24.0->-r requirements.txt (line 2)) (0.5.31)\n",
            "Requirement already satisfied: google-cloud-bigquery<2,>=1.6.0 in /usr/local/lib/python3.7/dist-packages (from apache-beam[gcp]==2.24.0->-r requirements.txt (line 2)) (1.21.0)\n",
            "Requirement already satisfied: grpcio-gcp<1,>=0.2.2 in /usr/local/lib/python3.7/dist-packages (from apache-beam[gcp]==2.24.0->-r requirements.txt (line 2)) (0.2.2)\n",
            "Requirement already satisfied: google-cloud-vision<2,>=0.38.0 in /usr/local/lib/python3.7/dist-packages (from apache-beam[gcp]==2.24.0->-r requirements.txt (line 2)) (1.0.2)\n",
            "Requirement already satisfied: google-cloud-language<2,>=1.3.0 in /usr/local/lib/python3.7/dist-packages (from apache-beam[gcp]==2.24.0->-r requirements.txt (line 2)) (1.3.2)\n",
            "Requirement already satisfied: google-cloud-videointelligence<2,>=1.8.0 in /usr/local/lib/python3.7/dist-packages (from apache-beam[gcp]==2.24.0->-r requirements.txt (line 2)) (1.16.3)\n",
            "Requirement already satisfied: google-cloud-spanner<2,>=1.13.0 in /usr/local/lib/python3.7/dist-packages (from apache-beam[gcp]==2.24.0->-r requirements.txt (line 2)) (1.19.3)\n",
            "Requirement already satisfied: google-cloud-bigtable<2,>=0.31.1 in /usr/local/lib/python3.7/dist-packages (from apache-beam[gcp]==2.24.0->-r requirements.txt (line 2)) (1.7.2)\n",
            "Requirement already satisfied: cachetools<4,>=3.1.0 in /usr/local/lib/python3.7/dist-packages (from apache-beam[gcp]==2.24.0->-r requirements.txt (line 2)) (3.1.1)\n",
            "Requirement already satisfied: google-cloud-dlp<2,>=0.12.0 in /usr/local/lib/python3.7/dist-packages (from apache-beam[gcp]==2.24.0->-r requirements.txt (line 2)) (1.0.2)\n",
            "Requirement already satisfied: fasteners>=0.14 in /usr/local/lib/python3.7/dist-packages (from google-apitools<0.5.32,>=0.5.31->apache-beam[gcp]==2.24.0->-r requirements.txt (line 2)) (0.17.3)\n",
            "Requirement already satisfied: pyasn1-modules>=0.2.1 in /usr/local/lib/python3.7/dist-packages (from google-auth>=1.2->gcsfs==0.7.1->-r requirements.txt (line 6)) (0.2.8)\n",
            "Requirement already satisfied: rsa<5,>=3.1.4 in /usr/local/lib/python3.7/dist-packages (from google-auth>=1.2->gcsfs==0.7.1->-r requirements.txt (line 6)) (4.8)\n",
            "Requirement already satisfied: setuptools>=40.3.0 in /usr/local/lib/python3.7/dist-packages (from google-auth>=1.2->gcsfs==0.7.1->-r requirements.txt (line 6)) (57.4.0)\n",
            "Requirement already satisfied: google-resumable-media!=0.4.0,<0.5.0dev,>=0.3.1 in /usr/local/lib/python3.7/dist-packages (from google-cloud-bigquery<2,>=1.6.0->apache-beam[gcp]==2.24.0->-r requirements.txt (line 2)) (0.4.1)\n",
            "Requirement already satisfied: grpc-google-iam-v1<0.13dev,>=0.12.3 in /usr/local/lib/python3.7/dist-packages (from google-cloud-bigtable<2,>=0.31.1->apache-beam[gcp]==2.24.0->-r requirements.txt (line 2)) (0.12.4)\n",
            "Requirement already satisfied: google-api-core[grpc]!=2.0.*,!=2.1.*,!=2.2.*,!=2.3.0,<3.0.0dev,>=1.31.5 in /usr/local/lib/python3.7/dist-packages (from google-cloud-bigtable<2,>=0.31.1->apache-beam[gcp]==2.24.0->-r requirements.txt (line 2)) (1.31.6)\n",
            "Requirement already satisfied: packaging>=14.3 in /usr/local/lib/python3.7/dist-packages (from google-api-core[grpc]!=2.0.*,!=2.1.*,!=2.2.*,!=2.3.0,<3.0.0dev,>=1.31.5->google-cloud-bigtable<2,>=0.31.1->apache-beam[gcp]==2.24.0->-r requirements.txt (line 2)) (21.3)\n",
            "Requirement already satisfied: googleapis-common-protos<2.0dev,>=1.6.0 in /usr/local/lib/python3.7/dist-packages (from google-api-core[grpc]!=2.0.*,!=2.1.*,!=2.2.*,!=2.3.0,<3.0.0dev,>=1.31.5->google-cloud-bigtable<2,>=0.31.1->apache-beam[gcp]==2.24.0->-r requirements.txt (line 2)) (1.56.2)\n",
            "Requirement already satisfied: docopt in /usr/local/lib/python3.7/dist-packages (from hdfs<3.0.0,>=2.1.0->apache-beam[gcp]==2.24.0->-r requirements.txt (line 2)) (0.6.2)\n",
            "Requirement already satisfied: pbr>=0.11 in /usr/local/lib/python3.7/dist-packages (from mock<3.0.0,>=1.0.1->apache-beam[gcp]==2.24.0->-r requirements.txt (line 2)) (5.9.0)\n",
            "Requirement already satisfied: pyasn1>=0.1.7 in /usr/local/lib/python3.7/dist-packages (from oauth2client<4,>=2.0.1->apache-beam[gcp]==2.24.0->-r requirements.txt (line 2)) (0.4.8)\n",
            "Requirement already satisfied: pyparsing!=3.0.5,>=2.0.2 in /usr/local/lib/python3.7/dist-packages (from packaging>=14.3->google-api-core[grpc]!=2.0.*,!=2.1.*,!=2.2.*,!=2.3.0,<3.0.0dev,>=1.31.5->google-cloud-bigtable<2,>=0.31.1->apache-beam[gcp]==2.24.0->-r requirements.txt (line 2)) (3.0.9)\n",
            "Requirement already satisfied: certifi>=2017.4.17 in /usr/local/lib/python3.7/dist-packages (from requests->gcsfs==0.7.1->-r requirements.txt (line 6)) (2022.6.15)\n",
            "Requirement already satisfied: charset-normalizer<3,>=2 in /usr/local/lib/python3.7/dist-packages (from requests->gcsfs==0.7.1->-r requirements.txt (line 6)) (2.1.0)\n",
            "Requirement already satisfied: urllib3<1.27,>=1.21.1 in /usr/local/lib/python3.7/dist-packages (from requests->gcsfs==0.7.1->-r requirements.txt (line 6)) (1.24.3)\n",
            "Requirement already satisfied: idna<4,>=2.5 in /usr/local/lib/python3.7/dist-packages (from requests->gcsfs==0.7.1->-r requirements.txt (line 6)) (2.10)\n",
            "Requirement already satisfied: keras<2.9,>=2.8.0rc0 in /usr/local/lib/python3.7/dist-packages (from tensorflow->-r requirements.txt (line 3)) (2.8.0)\n",
            "Requirement already satisfied: tensorflow-estimator<2.9,>=2.8 in /usr/local/lib/python3.7/dist-packages (from tensorflow->-r requirements.txt (line 3)) (2.8.0)\n",
            "Requirement already satisfied: keras-preprocessing>=1.1.1 in /usr/local/lib/python3.7/dist-packages (from tensorflow->-r requirements.txt (line 3)) (1.1.2)\n",
            "Requirement already satisfied: flatbuffers>=1.12 in /usr/local/lib/python3.7/dist-packages (from tensorflow->-r requirements.txt (line 3)) (2.0)\n",
            "Requirement already satisfied: astunparse>=1.6.0 in /usr/local/lib/python3.7/dist-packages (from tensorflow->-r requirements.txt (line 3)) (1.6.3)\n",
            "Requirement already satisfied: opt-einsum>=2.3.2 in /usr/local/lib/python3.7/dist-packages (from tensorflow->-r requirements.txt (line 3)) (3.3.0)\n",
            "Requirement already satisfied: wrapt>=1.11.0 in /usr/local/lib/python3.7/dist-packages (from tensorflow->-r requirements.txt (line 3)) (1.14.1)\n",
            "Requirement already satisfied: h5py>=2.9.0 in /usr/local/lib/python3.7/dist-packages (from tensorflow->-r requirements.txt (line 3)) (3.1.0)\n",
            "Requirement already satisfied: google-pasta>=0.1.1 in /usr/local/lib/python3.7/dist-packages (from tensorflow->-r requirements.txt (line 3)) (0.2.0)\n",
            "Requirement already satisfied: tensorboard<2.9,>=2.8 in /usr/local/lib/python3.7/dist-packages (from tensorflow->-r requirements.txt (line 3)) (2.8.0)\n",
            "Requirement already satisfied: libclang>=9.0.1 in /usr/local/lib/python3.7/dist-packages (from tensorflow->-r requirements.txt (line 3)) (14.0.1)\n",
            "Requirement already satisfied: gast>=0.2.1 in /usr/local/lib/python3.7/dist-packages (from tensorflow->-r requirements.txt (line 3)) (0.5.3)\n",
            "Requirement already satisfied: tensorflow-io-gcs-filesystem>=0.23.1 in /usr/local/lib/python3.7/dist-packages (from tensorflow->-r requirements.txt (line 3)) (0.26.0)\n",
            "Requirement already satisfied: termcolor>=1.1.0 in /usr/local/lib/python3.7/dist-packages (from tensorflow->-r requirements.txt (line 3)) (1.1.0)\n",
            "Requirement already satisfied: absl-py>=0.4.0 in /usr/local/lib/python3.7/dist-packages (from tensorflow->-r requirements.txt (line 3)) (1.1.0)\n",
            "Requirement already satisfied: wheel<1.0,>=0.23.0 in /usr/local/lib/python3.7/dist-packages (from astunparse>=1.6.0->tensorflow->-r requirements.txt (line 3)) (0.37.1)\n",
            "Requirement already satisfied: cached-property in /usr/local/lib/python3.7/dist-packages (from h5py>=2.9.0->tensorflow->-r requirements.txt (line 3)) (1.5.2)\n",
            "Requirement already satisfied: tensorboard-plugin-wit>=1.6.0 in /usr/local/lib/python3.7/dist-packages (from tensorboard<2.9,>=2.8->tensorflow->-r requirements.txt (line 3)) (1.8.1)\n",
            "Requirement already satisfied: markdown>=2.6.8 in /usr/local/lib/python3.7/dist-packages (from tensorboard<2.9,>=2.8->tensorflow->-r requirements.txt (line 3)) (3.3.7)\n",
            "Requirement already satisfied: tensorboard-data-server<0.7.0,>=0.6.0 in /usr/local/lib/python3.7/dist-packages (from tensorboard<2.9,>=2.8->tensorflow->-r requirements.txt (line 3)) (0.6.1)\n",
            "Requirement already satisfied: werkzeug>=0.11.15 in /usr/local/lib/python3.7/dist-packages (from tensorboard<2.9,>=2.8->tensorflow->-r requirements.txt (line 3)) (1.0.1)\n",
            "Requirement already satisfied: requests-oauthlib>=0.7.0 in /usr/local/lib/python3.7/dist-packages (from google-auth-oauthlib->gcsfs==0.7.1->-r requirements.txt (line 6)) (1.3.1)\n",
            "Requirement already satisfied: importlib-metadata>=4.4 in /usr/local/lib/python3.7/dist-packages (from markdown>=2.6.8->tensorboard<2.9,>=2.8->tensorflow->-r requirements.txt (line 3)) (4.11.4)\n",
            "Requirement already satisfied: zipp>=0.5 in /usr/local/lib/python3.7/dist-packages (from importlib-metadata>=4.4->markdown>=2.6.8->tensorboard<2.9,>=2.8->tensorflow->-r requirements.txt (line 3)) (3.8.0)\n",
            "Requirement already satisfied: oauthlib>=3.0.0 in /usr/local/lib/python3.7/dist-packages (from requests-oauthlib>=0.7.0->google-auth-oauthlib->gcsfs==0.7.1->-r requirements.txt (line 6)) (3.2.0)\n",
            "Requirement already satisfied: multidict<7.0,>=4.5 in /usr/local/lib/python3.7/dist-packages (from aiohttp->gcsfs==0.7.1->-r requirements.txt (line 6)) (6.0.2)\n",
            "Requirement already satisfied: async-timeout<5.0,>=4.0.0a3 in /usr/local/lib/python3.7/dist-packages (from aiohttp->gcsfs==0.7.1->-r requirements.txt (line 6)) (4.0.2)\n",
            "Requirement already satisfied: yarl<2.0,>=1.0 in /usr/local/lib/python3.7/dist-packages (from aiohttp->gcsfs==0.7.1->-r requirements.txt (line 6)) (1.7.2)\n",
            "Requirement already satisfied: attrs>=17.3.0 in /usr/local/lib/python3.7/dist-packages (from aiohttp->gcsfs==0.7.1->-r requirements.txt (line 6)) (21.4.0)\n",
            "Requirement already satisfied: asynctest==0.13.0 in /usr/local/lib/python3.7/dist-packages (from aiohttp->gcsfs==0.7.1->-r requirements.txt (line 6)) (0.13.0)\n",
            "Requirement already satisfied: frozenlist>=1.1.1 in /usr/local/lib/python3.7/dist-packages (from aiohttp->gcsfs==0.7.1->-r requirements.txt (line 6)) (1.3.0)\n",
            "Requirement already satisfied: aiosignal>=1.1.2 in /usr/local/lib/python3.7/dist-packages (from aiohttp->gcsfs==0.7.1->-r requirements.txt (line 6)) (1.2.0)\n"
          ]
        }
      ]
    },
    {
      "cell_type": "markdown",
      "metadata": {
        "id": "k0DDu27S3CJv"
      },
      "source": [
        "##**Entreglable (0.5 puntos)**\n",
        "\n",
        "Desarrollar un pipeline de preprocesamiento utilizando Apache Beam para generar datos de train, eval y test para los datos proporcionados anteriormente. Requisitos:\n",
        "\n",
        "- Proporcionar dos modos de ejecución: `train` y `test`\n",
        "- Soportar ejecuciones en local con `DirectRunner` y ejecuciones en Dataflow usando `DataFlowRunner`."
      ]
    },
    {
      "cell_type": "code",
      "metadata": {
        "id": "1blctlxs_dPO",
        "colab": {
          "base_uri": "https://localhost:8080/"
        },
        "outputId": "66ef3ea5-5ba1-4c1d-d7d7-5e7a21b285d5"
      },
      "source": [
        "%%writefile preprocess.py\n",
        "\n",
        "#\n",
        "# Licensed to the Apache Software Foundation (ASF) under one or more\n",
        "# contributor license agreements.  See the NOTICE file distributed with\n",
        "# this work for additional information regarding copyright ownership.\n",
        "# The ASF licenses this file to You under the Apache License, Version 2.0\n",
        "# (the \"License\"); you may not use this file except in compliance with\n",
        "# the License.  You may obtain a copy of the License at\n",
        "#\n",
        "#    http://www.apache.org/licenses/LICENSE-2.0\n",
        "#\n",
        "# Unless required by applicable law or agreed to in writing, software\n",
        "# distributed under the License is distributed on an \"AS IS\" BASIS,\n",
        "# WITHOUT WARRANTIES OR CONDITIONS OF ANY KIND, either express or implied.\n",
        "# See the License for the specific language governing permissions and\n",
        "# limitations under the License.\n",
        "#\n",
        "\n",
        "\"\"\"A word-counting workflow.\"\"\"\n",
        "\n",
        "# pytype: skip-file\n",
        "\n",
        "from __future__ import absolute_import\n",
        "\n",
        "import argparse\n",
        "import logging\n",
        "import re\n",
        "import os\n",
        "import json\n",
        "import random\n",
        "\n",
        "from past.builtins import unicode\n",
        "\n",
        "import apache_beam as beam\n",
        "from apache_beam.io import ReadFromText\n",
        "from apache_beam.io import WriteToText\n",
        "from apache_beam.coders.coders import Coder\n",
        "from apache_beam.options.pipeline_options import PipelineOptions\n",
        "from apache_beam.options.pipeline_options import SetupOptions, DirectOptions\n",
        "\n",
        "import nltk\n",
        "from nltk.corpus import stopwords\n",
        "from nltk.stem import SnowballStemmer\n",
        "\n",
        "nltk.download(\"stopwords\")\n",
        "\n",
        "# CLEANING\n",
        "STOP_WORDS = stopwords.words(\"english\")\n",
        "STEMMER = SnowballStemmer(\"english\")\n",
        "TEXT_CLEANING_RE = \"@\\S+|https?:\\S+|http?:\\S|[^A-Za-z0-9]+\"\n",
        "\n",
        "\n",
        "class ExtractColumnsDoFn(beam.DoFn):\n",
        "    def process(self, element):\n",
        "        # space removal\n",
        "        element_split = json.loads(element)\n",
        "        # text, troll/person\n",
        "        yield element_split['content'], element_split['annotation']['label'][0]\n",
        "\n",
        "\n",
        "class PreprocessColumnsTrainFn(beam.DoFn):\n",
        "    def process_troll(self, troll):\n",
        "      troll_ = int(troll)\n",
        "      if troll_ == 0:\n",
        "          return \"PERSON\"\n",
        "      else:\n",
        "          return \"TROLL\"\n",
        "\n",
        "    def process_text(self, text):\n",
        "        # Remove link,user and special characters\n",
        "        stem = False\n",
        "        text = re.sub(TEXT_CLEANING_RE, \" \", str(text).lower()).strip()\n",
        "        tokens = []\n",
        "        for token in text.split():\n",
        "            if token not in STOP_WORDS:\n",
        "                if stem:\n",
        "                    tokens.append(STEMMER.stem(token))\n",
        "                else:\n",
        "                    tokens.append(token)\n",
        "        return \" \".join(tokens)\n",
        "\n",
        "    def process(self, element):\n",
        "        processed_text = self.process_text(element[0])\n",
        "        processed_troll = self.process_troll(element[1])\n",
        "        yield f\"{processed_text}, {processed_troll}\"\n",
        "\n",
        "\n",
        "class CustomCoder(Coder):\n",
        "    \"\"\"A custom coder used for reading and writing strings\"\"\"\n",
        "\n",
        "    def __init__(self, encoding: str):\n",
        "        # latin-1\n",
        "        # iso-8859-1\n",
        "        self.enconding = encoding\n",
        "\n",
        "    def encode(self, value):\n",
        "        return value.encode(self.enconding)\n",
        "\n",
        "    def decode(self, value):\n",
        "        return value.decode(self.enconding)\n",
        "\n",
        "    def is_deterministic(self):\n",
        "        return True\n",
        "\n",
        "\n",
        "def run(argv=None, save_main_session=True):\n",
        "\n",
        "    \"\"\"Main entry point; defines and runs the wordcount pipeline.\"\"\"\n",
        "\n",
        "    parser = argparse.ArgumentParser()\n",
        "\n",
        "    parser.add_argument(\n",
        "        \"--work-dir\", dest=\"work_dir\", required=True, help=\"Working directory\",\n",
        "    )\n",
        "\n",
        "    parser.add_argument(\n",
        "        \"--input\", dest=\"input\", required=True, help=\"Input dataset in work dir\",\n",
        "    )\n",
        "    parser.add_argument(\n",
        "        \"--output\",\n",
        "        dest=\"output\",\n",
        "        required=True,\n",
        "        help=\"Output path to store transformed data in work dir\",\n",
        "    )\n",
        "    parser.add_argument(\n",
        "        \"--mode\",\n",
        "        dest=\"mode\",\n",
        "        required=True,\n",
        "        choices=[\"train\", \"test\"],\n",
        "        help=\"Type of output to store transformed data\",\n",
        "    )\n",
        "\n",
        "    known_args, pipeline_args = parser.parse_known_args(argv)\n",
        "\n",
        "    # We use the save_main_session option because one or more DoFn's in this\n",
        "    # workflow rely on global context (e.g., a module imported at module level).\n",
        "    pipeline_options = PipelineOptions(pipeline_args)\n",
        "    pipeline_options.view_as(SetupOptions).save_main_session = save_main_session\n",
        "    pipeline_options.view_as(DirectOptions).direct_num_workers = 0\n",
        "\n",
        "    # The pipeline will be run on exiting the with block.\n",
        "    with beam.Pipeline(options=pipeline_options) as p:\n",
        "\n",
        "        # Read the text file[pattern] into a PCollection.\n",
        "        raw_data = p | \"ReadTwitterData\" >> ReadFromText(\n",
        "            known_args.input, coder=CustomCoder(\"latin-1\")\n",
        "        )\n",
        "\n",
        "        if known_args.mode == \"train\":\n",
        "\n",
        "            transformed_data = (\n",
        "                raw_data\n",
        "                | \"ExtractColumns\" >> beam.ParDo(ExtractColumnsDoFn())\n",
        "                | \"Preprocess\" >> beam.ParDo(PreprocessColumnsTrainFn())\n",
        "            )\n",
        "\n",
        "            eval_percent = 20\n",
        "            assert 0 < eval_percent < 100, \"eval_percent must in the range (0-100)\"\n",
        "            train_dataset, eval_dataset = (\n",
        "                transformed_data\n",
        "                | \"Split dataset\"\n",
        "                >> beam.Partition(\n",
        "                    lambda elem, _: int(random.uniform(0, 100) < eval_percent), 2\n",
        "                )\n",
        "            )\n",
        "\n",
        "            train_dataset | \"TrainWriteToCSV\" >> WriteToText(\n",
        "                os.path.join(known_args.output, \"train\", \"part\")\n",
        "            )\n",
        "            eval_dataset | \"EvalWriteToCSV\" >> WriteToText(\n",
        "                os.path.join(known_args.output, \"eval\", \"part\")\n",
        "            )\n",
        "\n",
        "        else:\n",
        "            transformed_data = (\n",
        "                raw_data\n",
        "                | \"ExtractColumns\" >> beam.ParDo(ExtractColumnsDoFn())\n",
        "                | \"Preprocess\" >> beam.Map(lambda x: f'\"{x[0]}\"')\n",
        "            )\n",
        "\n",
        "            transformed_data | \"TestWriteToCSV\" >> WriteToText(\n",
        "                os.path.join(known_args.output, \"test\", \"part\")\n",
        "            )\n",
        "\n",
        "\n",
        "if __name__ == \"__main__\":\n",
        "    logging.getLogger().setLevel(logging.INFO)\n",
        "    run()"
      ],
      "execution_count": 10,
      "outputs": [
        {
          "output_type": "stream",
          "name": "stdout",
          "text": [
            "Writing preprocess.py\n"
          ]
        }
      ]
    },
    {
      "cell_type": "markdown",
      "metadata": {
        "id": "qawuKC0k4B0e"
      },
      "source": [
        "Se proporciona un fichero `setup.py` necesario para ejecutar en DataFlow. Modificar la variable `REQUIRED_PACKAGES` con las dependencias que se hayan usado en el `requirements.txt`"
      ]
    },
    {
      "cell_type": "code",
      "metadata": {
        "id": "n1MQvWsk_mVX",
        "colab": {
          "base_uri": "https://localhost:8080/"
        },
        "outputId": "8e2d049c-ebcf-49a9-bbd4-6a9ef37e1ecc"
      },
      "source": [
        "%%writefile setup.py\n",
        "\n",
        "import setuptools\n",
        "\n",
        "REQUIRED_PACKAGES = [\n",
        "  \"apache-beam[gcp]==2.24.0\",\n",
        "  \"tensorflow==2.8.0\",\n",
        "  \"gensim==3.6.0\",\n",
        "  \"fsspec==0.8.4\",\n",
        "  \"gcsfs==0.7.1\",\n",
        "  \"numpy==1.20.0\",\n",
        "]\n",
        "\n",
        "setuptools.setup(\n",
        "    name=\"twitchstreaming\",\n",
        "    version=\"0.0.1\",\n",
        "    install_requires=REQUIRED_PACKAGES,\n",
        "    packages=setuptools.find_packages(),\n",
        "    include_package_data=True,\n",
        "    description=\"Troll detection\",\n",
        ")\n"
      ],
      "execution_count": 11,
      "outputs": [
        {
          "output_type": "stream",
          "name": "stdout",
          "text": [
            "Writing setup.py\n"
          ]
        }
      ]
    },
    {
      "cell_type": "markdown",
      "metadata": {
        "id": "jLDlz_fL4UJA"
      },
      "source": [
        "### Validación preprocess train en local (0.25 puntos)\n",
        "\n",
        "Con el comando mostrado a continuación se valida la correcta generación de los datos de entrenamiento y validación en local."
      ]
    },
    {
      "cell_type": "code",
      "metadata": {
        "id": "vFpirg37C3bN",
        "colab": {
          "base_uri": "https://localhost:8080/"
        },
        "outputId": "7408a181-f167-421d-d87f-27196e88619c"
      },
      "source": [
        "! python3 preprocess.py \\\n",
        "  --work-dir $WORK_DIR \\\n",
        "  --runner DirectRunner \\\n",
        "  --input $WORK_DIR/data.json \\\n",
        "  --output $WORK_DIR/transformed_data \\\n",
        "  --mode train"
      ],
      "execution_count": 12,
      "outputs": [
        {
          "output_type": "stream",
          "name": "stdout",
          "text": [
            "[nltk_data] Downloading package stopwords to /root/nltk_data...\n",
            "[nltk_data]   Unzipping corpora/stopwords.zip.\n",
            "INFO:apache_beam.runners.portability.fn_api_runner.translations:==================== <function annotate_downstream_side_inputs at 0x7f8f28692200> ====================\n",
            "INFO:apache_beam.runners.portability.fn_api_runner.translations:==================== <function fix_side_input_pcoll_coders at 0x7f8f28692320> ====================\n",
            "INFO:apache_beam.runners.portability.fn_api_runner.translations:==================== <function lift_combiners at 0x7f8f286923b0> ====================\n",
            "INFO:apache_beam.runners.portability.fn_api_runner.translations:==================== <function expand_sdf at 0x7f8f28692440> ====================\n",
            "INFO:apache_beam.runners.portability.fn_api_runner.translations:==================== <function expand_gbk at 0x7f8f286924d0> ====================\n",
            "INFO:apache_beam.runners.portability.fn_api_runner.translations:==================== <function sink_flattens at 0x7f8f286925f0> ====================\n",
            "INFO:apache_beam.runners.portability.fn_api_runner.translations:==================== <function greedily_fuse at 0x7f8f28692680> ====================\n",
            "INFO:apache_beam.runners.portability.fn_api_runner.translations:==================== <function read_to_impulse at 0x7f8f28692710> ====================\n",
            "INFO:apache_beam.runners.portability.fn_api_runner.translations:==================== <function impulse_to_input at 0x7f8f286927a0> ====================\n",
            "INFO:apache_beam.runners.portability.fn_api_runner.translations:==================== <function sort_stages at 0x7f8f286929e0> ====================\n",
            "INFO:apache_beam.runners.portability.fn_api_runner.translations:==================== <function setup_timer_mapping at 0x7f8f28692950> ====================\n",
            "INFO:apache_beam.runners.portability.fn_api_runner.translations:==================== <function populate_data_channel_coders at 0x7f8f28692a70> ====================\n",
            "INFO:apache_beam.runners.worker.statecache:Creating state cache with size 100\n",
            "INFO:apache_beam.runners.portability.fn_api_runner.worker_handlers:Created Worker handler <apache_beam.runners.portability.fn_api_runner.worker_handlers.EmbeddedWorkerHandler object at 0x7f8f28749210> for environment ref_Environment_default_environment_1 (beam:env:embedded_python:v1, b'')\n",
            "INFO:apache_beam.runners.worker.statecache:Creating state cache with size 100\n",
            "INFO:apache_beam.runners.portability.fn_api_runner.worker_handlers:Created Worker handler <apache_beam.runners.portability.fn_api_runner.worker_handlers.EmbeddedWorkerHandler object at 0x7f8f29299310> for environment ref_Environment_default_environment_1 (beam:env:embedded_python:v1, b'')\n",
            "INFO:apache_beam.runners.portability.fn_api_runner.fn_runner:Running (((ref_AppliedPTransform_ReadTwitterData/Read/_SDFBoundedSourceWrapper/Impulse_5)+(ReadTwitterData/Read/_SDFBoundedSourceWrapper/ParDo(SDFBoundedSourceDoFn)/PairWithRestriction))+(ReadTwitterData/Read/_SDFBoundedSourceWrapper/ParDo(SDFBoundedSourceDoFn)/SplitAndSizeRestriction))+(ref_PCollection_PCollection_1_split/Write)\n",
            "INFO:apache_beam.runners.portability.fn_api_runner.fn_runner:Running (((((ref_AppliedPTransform_EvalWriteToCSV/Write/WriteImpl/DoOnce/Impulse_32)+(ref_AppliedPTransform_EvalWriteToCSV/Write/WriteImpl/DoOnce/FlatMap(<lambda at core.py:2826>)_33))+(ref_AppliedPTransform_EvalWriteToCSV/Write/WriteImpl/DoOnce/Map(decode)_35))+(ref_AppliedPTransform_EvalWriteToCSV/Write/WriteImpl/InitializeWrite_36))+(ref_PCollection_PCollection_21/Write))+(ref_PCollection_PCollection_22/Write)\n",
            "INFO:apache_beam.runners.portability.fn_api_runner.fn_runner:Running (((((ref_AppliedPTransform_TrainWriteToCSV/Write/WriteImpl/DoOnce/Impulse_16)+(ref_AppliedPTransform_TrainWriteToCSV/Write/WriteImpl/DoOnce/FlatMap(<lambda at core.py:2826>)_17))+(ref_AppliedPTransform_TrainWriteToCSV/Write/WriteImpl/DoOnce/Map(decode)_19))+(ref_AppliedPTransform_TrainWriteToCSV/Write/WriteImpl/InitializeWrite_20))+(ref_PCollection_PCollection_10/Write))+(ref_PCollection_PCollection_11/Write)\n",
            "INFO:apache_beam.runners.portability.fn_api_runner.fn_runner:Running ((((((((((((ref_PCollection_PCollection_1_split/Read)+(ReadTwitterData/Read/_SDFBoundedSourceWrapper/ParDo(SDFBoundedSourceDoFn)/Process))+(ref_AppliedPTransform_ExtractColumns_7))+(ref_AppliedPTransform_Preprocess_8))+(ref_AppliedPTransform_Split dataset/ParDo(ApplyPartitionFnFn)/ParDo(ApplyPartitionFnFn)_11))+(ref_AppliedPTransform_TrainWriteToCSV/Write/WriteImpl/WindowInto(WindowIntoFn)_21))+(ref_AppliedPTransform_EvalWriteToCSV/Write/WriteImpl/WindowInto(WindowIntoFn)_37))+(ref_AppliedPTransform_TrainWriteToCSV/Write/WriteImpl/WriteBundles_22))+(ref_AppliedPTransform_TrainWriteToCSV/Write/WriteImpl/Pair_23))+(TrainWriteToCSV/Write/WriteImpl/GroupByKey/Write))+(ref_AppliedPTransform_EvalWriteToCSV/Write/WriteImpl/WriteBundles_38))+(ref_AppliedPTransform_EvalWriteToCSV/Write/WriteImpl/Pair_39))+(EvalWriteToCSV/Write/WriteImpl/GroupByKey/Write)\n",
            "INFO:apache_beam.runners.portability.fn_api_runner.fn_runner:Running ((TrainWriteToCSV/Write/WriteImpl/GroupByKey/Read)+(ref_AppliedPTransform_TrainWriteToCSV/Write/WriteImpl/Extract_25))+(ref_PCollection_PCollection_16/Write)\n",
            "INFO:apache_beam.runners.portability.fn_api_runner.fn_runner:Running ((ref_PCollection_PCollection_10/Read)+(ref_AppliedPTransform_TrainWriteToCSV/Write/WriteImpl/PreFinalize_26))+(ref_PCollection_PCollection_17/Write)\n",
            "INFO:apache_beam.runners.portability.fn_api_runner.fn_runner:Running ((EvalWriteToCSV/Write/WriteImpl/GroupByKey/Read)+(ref_AppliedPTransform_EvalWriteToCSV/Write/WriteImpl/Extract_41))+(ref_PCollection_PCollection_27/Write)\n",
            "INFO:apache_beam.runners.portability.fn_api_runner.fn_runner:Running ((ref_PCollection_PCollection_21/Read)+(ref_AppliedPTransform_EvalWriteToCSV/Write/WriteImpl/PreFinalize_42))+(ref_PCollection_PCollection_28/Write)\n",
            "INFO:apache_beam.runners.portability.fn_api_runner.fn_runner:Running (ref_PCollection_PCollection_10/Read)+(ref_AppliedPTransform_TrainWriteToCSV/Write/WriteImpl/FinalizeWrite_27)\n",
            "INFO:apache_beam.io.filebasedsink:Starting finalize_write threads with num_shards: 2 (skipped: 0), batches: 2, num_threads: 2\n",
            "INFO:apache_beam.io.filebasedsink:Renamed 2 shards in 0.10 seconds.\n",
            "INFO:apache_beam.runners.portability.fn_api_runner.fn_runner:Running (ref_PCollection_PCollection_21/Read)+(ref_AppliedPTransform_EvalWriteToCSV/Write/WriteImpl/FinalizeWrite_43)\n",
            "INFO:apache_beam.io.filebasedsink:Starting finalize_write threads with num_shards: 2 (skipped: 0), batches: 2, num_threads: 2\n",
            "INFO:apache_beam.io.filebasedsink:Renamed 2 shards in 0.10 seconds.\n"
          ]
        }
      ]
    },
    {
      "cell_type": "markdown",
      "metadata": {
        "id": "wkkG271a4qnA"
      },
      "source": [
        "### Validación preprocess test en local (0.25 puntos)\n",
        "\n",
        "Con el comando mostrado a continuación se valida la correcta generación de los datos de test en local."
      ]
    },
    {
      "cell_type": "code",
      "metadata": {
        "id": "u4lkLgecLS3i",
        "colab": {
          "base_uri": "https://localhost:8080/"
        },
        "outputId": "4635fcba-9a16-483e-cbee-a0481d1043e7"
      },
      "source": [
        "! python3 preprocess.py \\\n",
        "  --work-dir $WORK_DIR \\\n",
        "  --runner DirectRunner \\\n",
        "  --input $WORK_DIR/data.json \\\n",
        "  --output $WORK_DIR/transformed_data \\\n",
        "  --mode test"
      ],
      "execution_count": 13,
      "outputs": [
        {
          "output_type": "stream",
          "name": "stdout",
          "text": [
            "[nltk_data] Downloading package stopwords to /root/nltk_data...\n",
            "[nltk_data]   Package stopwords is already up-to-date!\n",
            "INFO:apache_beam.runners.portability.fn_api_runner.translations:==================== <function annotate_downstream_side_inputs at 0x7f14ea993b00> ====================\n",
            "INFO:apache_beam.runners.portability.fn_api_runner.translations:==================== <function fix_side_input_pcoll_coders at 0x7f14ea993c20> ====================\n",
            "INFO:apache_beam.runners.portability.fn_api_runner.translations:==================== <function lift_combiners at 0x7f14ea993cb0> ====================\n",
            "INFO:apache_beam.runners.portability.fn_api_runner.translations:==================== <function expand_sdf at 0x7f14ea993d40> ====================\n",
            "INFO:apache_beam.runners.portability.fn_api_runner.translations:==================== <function expand_gbk at 0x7f14ea993dd0> ====================\n",
            "INFO:apache_beam.runners.portability.fn_api_runner.translations:==================== <function sink_flattens at 0x7f14ea993ef0> ====================\n",
            "INFO:apache_beam.runners.portability.fn_api_runner.translations:==================== <function greedily_fuse at 0x7f14ea993f80> ====================\n",
            "INFO:apache_beam.runners.portability.fn_api_runner.translations:==================== <function read_to_impulse at 0x7f14ea995050> ====================\n",
            "INFO:apache_beam.runners.portability.fn_api_runner.translations:==================== <function impulse_to_input at 0x7f14ea9950e0> ====================\n",
            "INFO:apache_beam.runners.portability.fn_api_runner.translations:==================== <function sort_stages at 0x7f14ea995320> ====================\n",
            "INFO:apache_beam.runners.portability.fn_api_runner.translations:==================== <function setup_timer_mapping at 0x7f14ea995290> ====================\n",
            "INFO:apache_beam.runners.portability.fn_api_runner.translations:==================== <function populate_data_channel_coders at 0x7f14ea9953b0> ====================\n",
            "INFO:apache_beam.runners.worker.statecache:Creating state cache with size 100\n",
            "INFO:apache_beam.runners.portability.fn_api_runner.worker_handlers:Created Worker handler <apache_beam.runners.portability.fn_api_runner.worker_handlers.EmbeddedWorkerHandler object at 0x7f14ea6d4f50> for environment ref_Environment_default_environment_1 (beam:env:embedded_python:v1, b'')\n",
            "INFO:apache_beam.runners.worker.statecache:Creating state cache with size 100\n",
            "INFO:apache_beam.runners.portability.fn_api_runner.worker_handlers:Created Worker handler <apache_beam.runners.portability.fn_api_runner.worker_handlers.EmbeddedWorkerHandler object at 0x7f14ea6d4790> for environment ref_Environment_default_environment_1 (beam:env:embedded_python:v1, b'')\n",
            "INFO:apache_beam.runners.portability.fn_api_runner.fn_runner:Running (((ref_AppliedPTransform_ReadTwitterData/Read/_SDFBoundedSourceWrapper/Impulse_5)+(ReadTwitterData/Read/_SDFBoundedSourceWrapper/ParDo(SDFBoundedSourceDoFn)/PairWithRestriction))+(ReadTwitterData/Read/_SDFBoundedSourceWrapper/ParDo(SDFBoundedSourceDoFn)/SplitAndSizeRestriction))+(ref_PCollection_PCollection_1_split/Write)\n",
            "INFO:apache_beam.runners.portability.fn_api_runner.fn_runner:Running (((((ref_AppliedPTransform_TestWriteToCSV/Write/WriteImpl/DoOnce/Impulse_13)+(ref_AppliedPTransform_TestWriteToCSV/Write/WriteImpl/DoOnce/FlatMap(<lambda at core.py:2826>)_14))+(ref_AppliedPTransform_TestWriteToCSV/Write/WriteImpl/DoOnce/Map(decode)_16))+(ref_AppliedPTransform_TestWriteToCSV/Write/WriteImpl/InitializeWrite_17))+(ref_PCollection_PCollection_7/Write))+(ref_PCollection_PCollection_8/Write)\n",
            "INFO:apache_beam.runners.portability.fn_api_runner.fn_runner:Running (((((((ref_PCollection_PCollection_1_split/Read)+(ReadTwitterData/Read/_SDFBoundedSourceWrapper/ParDo(SDFBoundedSourceDoFn)/Process))+(ref_AppliedPTransform_ExtractColumns_7))+(ref_AppliedPTransform_Preprocess_8))+(ref_AppliedPTransform_TestWriteToCSV/Write/WriteImpl/WindowInto(WindowIntoFn)_18))+(ref_AppliedPTransform_TestWriteToCSV/Write/WriteImpl/WriteBundles_19))+(ref_AppliedPTransform_TestWriteToCSV/Write/WriteImpl/Pair_20))+(TestWriteToCSV/Write/WriteImpl/GroupByKey/Write)\n",
            "INFO:apache_beam.runners.portability.fn_api_runner.fn_runner:Running ((TestWriteToCSV/Write/WriteImpl/GroupByKey/Read)+(ref_AppliedPTransform_TestWriteToCSV/Write/WriteImpl/Extract_22))+(ref_PCollection_PCollection_13/Write)\n",
            "INFO:apache_beam.runners.portability.fn_api_runner.fn_runner:Running ((ref_PCollection_PCollection_7/Read)+(ref_AppliedPTransform_TestWriteToCSV/Write/WriteImpl/PreFinalize_23))+(ref_PCollection_PCollection_14/Write)\n",
            "INFO:apache_beam.runners.portability.fn_api_runner.fn_runner:Running (ref_PCollection_PCollection_7/Read)+(ref_AppliedPTransform_TestWriteToCSV/Write/WriteImpl/FinalizeWrite_24)\n",
            "INFO:apache_beam.io.filebasedsink:Starting finalize_write threads with num_shards: 2 (skipped: 0), batches: 2, num_threads: 2\n",
            "INFO:apache_beam.io.filebasedsink:Renamed 2 shards in 0.10 seconds.\n"
          ]
        }
      ]
    },
    {
      "cell_type": "markdown",
      "metadata": {
        "id": "geZM9Sbj45LK"
      },
      "source": [
        "## Entregable 2 (1.25 puntos)\n",
        "\n",
        "Desarrollar una tarea de entrenamiento para los datos preprocesados. Requisitos:\n",
        "\n",
        "- Soportar ejecuciones en local usando el SDK de AI-Platform y ejecuciones en GCP con el mismo código."
      ]
    },
    {
      "cell_type": "markdown",
      "metadata": {
        "id": "OMUwXgm_5el-"
      },
      "source": [
        "Se crea el directorio donde se dejará este entregable."
      ]
    },
    {
      "cell_type": "code",
      "metadata": {
        "id": "HMi8dI1gLoIc"
      },
      "source": [
        "%mkdir /content/batch/trainer"
      ],
      "execution_count": 14,
      "outputs": []
    },
    {
      "cell_type": "code",
      "metadata": {
        "id": "3dJyMXTuNPwo",
        "colab": {
          "base_uri": "https://localhost:8080/"
        },
        "outputId": "9f95de08-cf2b-44b3-949d-e0a69aa7c925"
      },
      "source": [
        "%%writefile trainer/__init__.py\n",
        "\n",
        "version = \"0.1.0\""
      ],
      "execution_count": 15,
      "outputs": [
        {
          "output_type": "stream",
          "name": "stdout",
          "text": [
            "Writing trainer/__init__.py\n"
          ]
        }
      ]
    },
    {
      "cell_type": "code",
      "metadata": {
        "id": "mUu6gKaTL_S2",
        "colab": {
          "base_uri": "https://localhost:8080/"
        },
        "outputId": "571ae549-397c-4b3b-9a0a-a280911ff90f"
      },
      "source": [
        "%%writefile trainer/task.py\n",
        "\n",
        "from __future__ import absolute_import\n",
        "\n",
        "import argparse\n",
        "import multiprocessing as mp\n",
        "import logging\n",
        "import tempfile\n",
        "import os\n",
        "\n",
        "import pickle\n",
        "import gensim\n",
        "import pandas as pd\n",
        "import numpy as np\n",
        "import tensorflow as tf\n",
        "\n",
        "from tensorflow.keras.preprocessing.text import Tokenizer\n",
        "from tensorflow.keras.preprocessing.sequence import pad_sequences\n",
        "from tensorflow.keras.models import Sequential\n",
        "from tensorflow.keras.layers import (\n",
        "    Dense,\n",
        "    Dropout,\n",
        "    Embedding,\n",
        "    LSTM,\n",
        ")\n",
        "from tensorflow.keras.callbacks import ReduceLROnPlateau, EarlyStopping\n",
        "from sklearn.preprocessing import LabelEncoder\n",
        "\n",
        "\n",
        "# WORD2VEC\n",
        "W2V_SIZE = 300\n",
        "W2V_WINDOW = 7\n",
        "# 32\n",
        "W2V_EPOCH = 5\n",
        "W2V_MIN_COUNT = 10\n",
        "\n",
        "# KERAS\n",
        "SEQUENCE_LENGTH = 300\n",
        "\n",
        "# SENTIMENT\n",
        "PERSON = \"PERSON\"\n",
        "TROLL = \"TROLL\"\n",
        "\n",
        "# EXPORT\n",
        "KERAS_MODEL = \"model.h5\"\n",
        "WORD2VEC_MODEL = \"model.w2v\"\n",
        "TOKENIZER_MODEL = \"tokenizer.pkl\"\n",
        "ENCODER_MODEL = \"encoder.pkl\"\n",
        "\n",
        "\n",
        "def generate_word2vec(train_df):\n",
        "    documents = [_text.split() for _text in train_df.text.values]\n",
        "    w2v_model = gensim.models.word2vec.Word2Vec(\n",
        "        size=W2V_SIZE,\n",
        "        window=W2V_WINDOW,\n",
        "        min_count=W2V_MIN_COUNT,\n",
        "        workers=mp.cpu_count(),\n",
        "    )\n",
        "    w2v_model.build_vocab(documents)\n",
        "\n",
        "    words = w2v_model.wv.vocab.keys()\n",
        "    vocab_size = len(words)\n",
        "    logging.info(f\"Vocab size: {vocab_size}\")\n",
        "    w2v_model.train(documents, total_examples=len(documents), epochs=W2V_EPOCH)\n",
        "\n",
        "    return w2v_model\n",
        "\n",
        "\n",
        "def generate_tokenizer(train_df):\n",
        "    tokenizer = Tokenizer()\n",
        "    tokenizer.fit_on_texts(train_df.text)\n",
        "    vocab_size = len(tokenizer.word_index) + 1\n",
        "    logging.info(f\"Total words: {vocab_size}\")\n",
        "    return tokenizer, vocab_size\n",
        "\n",
        "\n",
        "def generate_label_encoder(train_df):\n",
        "    encoder = LabelEncoder()\n",
        "    encoder.fit(train_df.sentiment.tolist())\n",
        "    return encoder\n",
        "\n",
        "\n",
        "def generate_embedding(word2vec_model, vocab_size, tokenizer):\n",
        "    embedding_matrix = np.zeros((vocab_size, W2V_SIZE))\n",
        "    for word, i in tokenizer.word_index.items():\n",
        "        if word in word2vec_model.wv:\n",
        "            embedding_matrix[i] = word2vec_model.wv[word]\n",
        "    return Embedding(\n",
        "        vocab_size,\n",
        "        W2V_SIZE,\n",
        "        weights=[embedding_matrix],\n",
        "        input_length=SEQUENCE_LENGTH,\n",
        "        trainable=False,\n",
        "    )\n",
        "\n",
        "\n",
        "def train_and_evaluate(\n",
        "    work_dir, train_df, eval_df, batch_size=1024, epochs=8, steps=1000\n",
        "):\n",
        "\n",
        "    \"\"\"\n",
        "    Trains and evaluates the estimator given.\n",
        "    The input functions are generated by the preprocessing function.\n",
        "    \"\"\"\n",
        "\n",
        "    model_dir = os.path.join(work_dir, \"model\")\n",
        "    if tf.io.gfile.exists(model_dir):\n",
        "        tf.io.gfile.rmtree(model_dir)\n",
        "    tf.io.gfile.mkdir(model_dir)\n",
        "\n",
        "    # Specify where to store our model\n",
        "    run_config = tf.estimator.RunConfig()\n",
        "    run_config = run_config.replace(model_dir=model_dir)\n",
        "\n",
        "    # This will give us a more granular visualization of the training\n",
        "    run_config = run_config.replace(save_summary_steps=10)\n",
        "\n",
        "    # Create Word2vec of training data\n",
        "    logging.info(\"---- Generating word2vec model ----\")\n",
        "    word2vec_model = generate_word2vec(train_df)\n",
        "\n",
        "    # Tokenize training data\n",
        "    logging.info(\"---- Generating tokenizer ----\")\n",
        "    tokenizer, vocab_size = generate_tokenizer(train_df)\n",
        "\n",
        "    logging.info(\"---- Tokenizing train data ----\")\n",
        "    x_train = pad_sequences(\n",
        "        tokenizer.texts_to_sequences(train_df.text), maxlen=SEQUENCE_LENGTH\n",
        "    )\n",
        "    logging.info(\"---- Tokenizing eval data ----\")\n",
        "    x_eval = pad_sequences(\n",
        "        tokenizer.texts_to_sequences(eval_df.text), maxlen=SEQUENCE_LENGTH\n",
        "    )\n",
        "\n",
        "    # Label Encoder\n",
        "    logging.info(\"---- Generating label encoder ----\")\n",
        "    label_encoder = generate_label_encoder(train_df)\n",
        "\n",
        "    logging.info(\"---- Encoding train target ----\")\n",
        "    y_train = label_encoder.transform(train_df.sentiment.tolist())\n",
        "    logging.info(\"---- Encoding eval target ----\")\n",
        "    y_eval = label_encoder.transform(eval_df.sentiment.tolist())\n",
        "\n",
        "    y_train = y_train.reshape(-1, 1)\n",
        "    y_eval = y_eval.reshape(-1, 1)\n",
        "\n",
        "    # Create Embedding Layer\n",
        "    logging.info(\"---- Generating embedding layer ----\")\n",
        "    embedding_layer = generate_embedding(word2vec_model, vocab_size, tokenizer)\n",
        "\n",
        "    logging.info(\"---- Generating Sequential model ----\")\n",
        "    model = Sequential()\n",
        "    model.add(embedding_layer)\n",
        "    model.add(Dropout(0.5))\n",
        "    model.add(LSTM(100, dropout=0.2, recurrent_dropout=0.2))\n",
        "    model.add(Dense(1, activation=\"sigmoid\"))\n",
        "\n",
        "    model.summary()\n",
        "\n",
        "    logging.info(\"---- Adding loss function to model ----\")\n",
        "    model.compile(loss=\"binary_crossentropy\", optimizer=\"adam\", metrics=[\"accuracy\"])\n",
        "\n",
        "    logging.info(\"---- Adding callbacks to model ----\")\n",
        "    callbacks = [\n",
        "        ReduceLROnPlateau(monitor=\"val_loss\", patience=5, cooldown=0),\n",
        "        EarlyStopping(monitor=\"val_accuracy\", min_delta=1e-4, patience=5),\n",
        "    ]\n",
        "\n",
        "    logging.info(\"---- Training model ----\")\n",
        "    model.fit(\n",
        "        x_train,\n",
        "        y_train,\n",
        "        batch_size=batch_size,\n",
        "        steps_per_epoch=steps,\n",
        "        epochs=epochs,\n",
        "        validation_split=0.1,\n",
        "        verbose=1,\n",
        "        callbacks=callbacks,\n",
        "    )\n",
        "\n",
        "    logging.info(\"---- Evaluating model ----\")\n",
        "    score = model.evaluate(x_eval, y_eval, batch_size=batch_size)\n",
        "    logging.info(f\"ACCURACY: {score[1]}\")\n",
        "    logging.info(f\"LOSS: {score[0]}\")\n",
        "\n",
        "    logging.info(\"---- Saving models ----\")\n",
        "    pickle.dump(\n",
        "        tokenizer,\n",
        "        tf.io.gfile.GFile(os.path.join(model_dir, TOKENIZER_MODEL), mode=\"wb\"),\n",
        "        protocol=0,\n",
        "    )\n",
        "    with tempfile.NamedTemporaryFile(suffix=\".h5\") as local_file:\n",
        "        with tf.io.gfile.GFile(\n",
        "            os.path.join(model_dir, KERAS_MODEL), mode=\"wb\"\n",
        "        ) as gcs_file:\n",
        "            model.save(local_file.name)\n",
        "            gcs_file.write(local_file.read())\n",
        "\n",
        "    # word2vec_model.save(os.path.join(model_dir, WORD2VEC_MODEL))\n",
        "\n",
        "    # pickle.dump(\n",
        "    #     label_encoder, open(os.path.join(model_dir, ENCODER_MODEL), \"wb\"), protocol=0\n",
        "    # )\n",
        "\n",
        "\n",
        "if __name__ == \"__main__\":\n",
        "\n",
        "    \"\"\"Main function called by AI Platform.\"\"\"\n",
        "\n",
        "    logging.getLogger().setLevel(logging.INFO)\n",
        "\n",
        "    parser = argparse.ArgumentParser(\n",
        "        formatter_class=argparse.ArgumentDefaultsHelpFormatter\n",
        "    )\n",
        "\n",
        "    parser.add_argument(\n",
        "        \"--job-dir\",\n",
        "        help=\"Directory for staging trainer files. \"\n",
        "        \"This can be a Google Cloud Storage path.\",\n",
        "    )\n",
        "\n",
        "    parser.add_argument(\n",
        "        \"--work-dir\",\n",
        "        required=True,\n",
        "        help=\"Directory for staging and working files. \"\n",
        "        \"This can be a Google Cloud Storage path.\",\n",
        "    )\n",
        "\n",
        "    parser.add_argument(\n",
        "        \"--batch-size\",\n",
        "        type=int,\n",
        "        default=1024,\n",
        "        help=\"Batch size for training and evaluation.\",\n",
        "    )\n",
        "\n",
        "    parser.add_argument(\n",
        "        \"--epochs\", type=int, default=8, help=\"Number of epochs to train the model\",\n",
        "    )\n",
        "\n",
        "    parser.add_argument(\n",
        "        \"--steps\",\n",
        "        type=int,\n",
        "        default=1000,\n",
        "        help=\"Number of steps per epoch to train the model\",\n",
        "    )\n",
        "\n",
        "    args = parser.parse_args()\n",
        "\n",
        "    train_data_files = tf.io.gfile.glob(\n",
        "        os.path.join(args.work_dir, \"transformed_data/train/part-*\")\n",
        "    )\n",
        "    eval_data_files = tf.io.gfile.glob(\n",
        "        os.path.join(args.work_dir, \"transformed_data/eval/part-*\")\n",
        "    )\n",
        "\n",
        "    train_df = pd.concat(\n",
        "        [\n",
        "            pd.read_csv(\n",
        "                f,\n",
        "                names=[\"text\", \"sentiment\"],\n",
        "                dtype={\"text\": \"string\", \"sentiment\": \"string\"},\n",
        "            )\n",
        "            for f in train_data_files\n",
        "        ]\n",
        "    ).dropna()\n",
        "\n",
        "    eval_df = pd.concat(\n",
        "        [\n",
        "            pd.read_csv(\n",
        "                f,\n",
        "                names=[\"text\", \"sentiment\"],\n",
        "                dtype={\"text\": \"string\", \"sentiment\": \"string\"},\n",
        "            )\n",
        "            for f in eval_data_files\n",
        "        ]\n",
        "    ).dropna()\n",
        "\n",
        "    train_and_evaluate(\n",
        "        args.work_dir,\n",
        "        train_df=train_df,\n",
        "        eval_df=eval_df,\n",
        "        batch_size=args.batch_size,\n",
        "        epochs=args.epochs,\n",
        "        steps=args.steps,\n",
        "    )\n"
      ],
      "execution_count": 16,
      "outputs": [
        {
          "output_type": "stream",
          "name": "stdout",
          "text": [
            "Writing trainer/task.py\n"
          ]
        }
      ]
    },
    {
      "cell_type": "code",
      "source": [
        "# he tenido que crear el directorio /model a mano\n",
        "# porque no se me generaba con el codigo implementado\n",
        "%mkdir /content/batch/model\n",
        "#%mkdir /content/batch/data/model"
      ],
      "metadata": {
        "id": "xYYVkf-qjh1I"
      },
      "execution_count": 17,
      "outputs": []
    },
    {
      "cell_type": "markdown",
      "metadata": {
        "id": "8axPHdHX6d9W"
      },
      "source": [
        "### Validación Train en local\n",
        "\n",
        "Con el comando mostrado a continuación se valida el correcto entrenamiento del modelo usando los datos preprocesados del apartado anterior."
      ]
    },
    {
      "cell_type": "code",
      "metadata": {
        "id": "m9997ZzsLmq-",
        "colab": {
          "base_uri": "https://localhost:8080/"
        },
        "outputId": "2ed67fcd-6d65-4afd-9bea-979be77a9fbc"
      },
      "source": [
        "# Explicitly tell `gcloud ai-platform local train` to use Python 3 \n",
        "! gcloud config set ml_engine/local_python $(which python3)\n",
        "\n",
        "# This is similar to `python -m trainer.task --job-dir local-training-output`\n",
        "# but it better replicates the AI Platform environment, especially for\n",
        "# distributed training (not applicable here).\n",
        "! gcloud ai-platform local train \\\n",
        "  --package-path trainer \\\n",
        "  --module-name trainer.task \\\n",
        "  -- \\\n",
        "  --work-dir $WORK_DIR \\\n",
        "  --epochs 1 \\\n",
        "  #--steps 16"
      ],
      "execution_count": 18,
      "outputs": [
        {
          "output_type": "stream",
          "name": "stdout",
          "text": [
            "Updated property [ml_engine/local_python].\n",
            "INFO:tensorflow:TF_CONFIG environment variable: {'job': {'job_name': 'trainer.task', 'args': ['--work-dir', '/content/batch', '--epochs', '1']}, 'task': {}, 'cluster': {}, 'environment': 'cloud'}\n",
            "INFO:root:---- Generating word2vec model ----\n",
            "INFO:gensim.models.word2vec:collecting all words and their counts\n",
            "INFO:gensim.models.word2vec:PROGRESS: at sentence #0, processed 0 words, keeping 0 word types\n",
            "INFO:gensim.models.word2vec:PROGRESS: at sentence #10000, processed 68408 words, keeping 11691 word types\n",
            "INFO:gensim.models.word2vec:collected 14714 word types from a corpus of 113838 raw words and 15819 sentences\n",
            "INFO:gensim.models.word2vec:Loading a fresh vocabulary\n",
            "INFO:gensim.models.word2vec:effective_min_count=10 retains 1596 unique words (10% of original 14714, drops 13118)\n",
            "INFO:gensim.models.word2vec:effective_min_count=10 leaves 84188 word corpus (73% of original 113838, drops 29650)\n",
            "INFO:gensim.models.word2vec:deleting the raw counts dictionary of 14714 items\n",
            "INFO:gensim.models.word2vec:sample=0.001 downsamples 57 most-common words\n",
            "INFO:gensim.models.word2vec:downsampling leaves estimated 70086 word corpus (83.3% of prior 84188)\n",
            "INFO:gensim.models.base_any2vec:estimated required memory for 1596 words and 300 dimensions: 4628400 bytes\n",
            "INFO:gensim.models.word2vec:resetting layer weights\n",
            "INFO:root:Vocab size: 1596\n",
            "INFO:gensim.models.base_any2vec:training model with 2 workers on 1596 vocabulary and 300 features, using sg=0 hs=0 sample=0.001 negative=5 window=7\n",
            "INFO:gensim.models.base_any2vec:worker thread finished; awaiting finish of 1 more threads\n",
            "INFO:gensim.models.base_any2vec:worker thread finished; awaiting finish of 0 more threads\n",
            "INFO:gensim.models.base_any2vec:EPOCH - 1 : training on 113838 raw words (70049 effective words) took 0.1s, 478846 effective words/s\n",
            "INFO:gensim.models.base_any2vec:worker thread finished; awaiting finish of 1 more threads\n",
            "INFO:gensim.models.base_any2vec:worker thread finished; awaiting finish of 0 more threads\n",
            "INFO:gensim.models.base_any2vec:EPOCH - 2 : training on 113838 raw words (70232 effective words) took 0.1s, 489817 effective words/s\n",
            "INFO:gensim.models.base_any2vec:worker thread finished; awaiting finish of 1 more threads\n",
            "INFO:gensim.models.base_any2vec:worker thread finished; awaiting finish of 0 more threads\n",
            "INFO:gensim.models.base_any2vec:EPOCH - 3 : training on 113838 raw words (70178 effective words) took 0.1s, 502035 effective words/s\n",
            "INFO:gensim.models.base_any2vec:worker thread finished; awaiting finish of 1 more threads\n",
            "INFO:gensim.models.base_any2vec:worker thread finished; awaiting finish of 0 more threads\n",
            "INFO:gensim.models.base_any2vec:EPOCH - 4 : training on 113838 raw words (70138 effective words) took 0.1s, 467847 effective words/s\n",
            "INFO:gensim.models.base_any2vec:worker thread finished; awaiting finish of 1 more threads\n",
            "INFO:gensim.models.base_any2vec:worker thread finished; awaiting finish of 0 more threads\n",
            "INFO:gensim.models.base_any2vec:EPOCH - 5 : training on 113838 raw words (70158 effective words) took 0.1s, 481969 effective words/s\n",
            "INFO:gensim.models.base_any2vec:training on a 569190 raw words (350755 effective words) took 0.8s, 464406 effective words/s\n",
            "INFO:root:---- Generating tokenizer ----\n",
            "INFO:root:Total words: 14715\n",
            "INFO:root:---- Tokenizing train data ----\n",
            "INFO:root:---- Tokenizing eval data ----\n",
            "INFO:root:---- Generating label encoder ----\n",
            "INFO:root:---- Encoding train target ----\n",
            "INFO:root:---- Encoding eval target ----\n",
            "INFO:root:---- Generating embedding layer ----\n",
            "INFO:root:---- Generating Sequential model ----\n",
            "2022-07-08 22:36:12.361635: W tensorflow/core/common_runtime/gpu/gpu_bfc_allocator.cc:39] Overriding allow_growth setting because the TF_FORCE_GPU_ALLOW_GROWTH environment variable is set. Original config value was 0.\n",
            "WARNING:tensorflow:Layer lstm will not use cuDNN kernels since it doesn't meet the criteria. It will use a generic GPU kernel as fallback when running on GPU.\n",
            "WARNING:tensorflow:Layer lstm will not use cuDNN kernels since it doesn't meet the criteria. It will use a generic GPU kernel as fallback when running on GPU.\n",
            "Model: \"sequential\"\n",
            "_________________________________________________________________\n",
            " Layer (type)                Output Shape              Param #   \n",
            "=================================================================\n",
            " embedding (Embedding)       (None, 300, 300)          4414500   \n",
            "                                                                 \n",
            " dropout (Dropout)           (None, 300, 300)          0         \n",
            "                                                                 \n",
            " lstm (LSTM)                 (None, 100)               160400    \n",
            "                                                                 \n",
            " dense (Dense)               (None, 1)                 101       \n",
            "                                                                 \n",
            "=================================================================\n",
            "Total params: 4,575,001\n",
            "Trainable params: 160,501\n",
            "Non-trainable params: 4,414,500\n",
            "_________________________________________________________________\n",
            "INFO:root:---- Adding loss function to model ----\n",
            "INFO:root:---- Adding callbacks to model ----\n",
            "INFO:root:---- Training model ----\n",
            "  14/1000 [..............................] - ETA: 21:07 - loss: 0.6893 - accuracy: 0.5604WARNING:tensorflow:Your input ran out of data; interrupting training. Make sure that your dataset or generator can generate at least `steps_per_epoch * epochs` batches (in this case, 1000 batches). You may need to use the repeat() function when building your dataset.\n",
            "WARNING:tensorflow:Your input ran out of data; interrupting training. Make sure that your dataset or generator can generate at least `steps_per_epoch * epochs` batches (in this case, 1000 batches). You may need to use the repeat() function when building your dataset.\n",
            "1000/1000 [==============================] - 24s 18ms/step - loss: 0.6893 - accuracy: 0.5604 - val_loss: 0.6823 - val_accuracy: 0.5518 - lr: 0.0010\n",
            "INFO:root:---- Evaluating model ----\n",
            "4/4 [==============================] - 1s 112ms/step - loss: 0.6795 - accuracy: 0.5938\n",
            "INFO:root:ACCURACY: 0.5938499569892883\n",
            "INFO:root:LOSS: 0.6794530153274536\n",
            "INFO:root:---- Saving models ----\n"
          ]
        }
      ]
    },
    {
      "cell_type": "markdown",
      "metadata": {
        "id": "0nhlkcjn62Zo"
      },
      "source": [
        "## Entregable 3 (0.5 puntos)\n",
        "\n",
        "Desarrollar un pipeline de inferencia utilizando Apache Beam para generar predicciones usando los modelos generados en el apartado anterior así como los de test generados en el primer entregable.\n"
      ]
    },
    {
      "cell_type": "code",
      "metadata": {
        "id": "eHBpLXB-OmjT",
        "colab": {
          "base_uri": "https://localhost:8080/"
        },
        "outputId": "24bba72e-5cf1-4791-c826-09cd7b2f0ab7"
      },
      "source": [
        "%%writefile predict.py\n",
        "\n",
        "from __future__ import absolute_import\n",
        "from __future__ import print_function\n",
        "\n",
        "import argparse\n",
        "import tempfile\n",
        "import json\n",
        "import os\n",
        "import sys\n",
        "import time\n",
        "\n",
        "import apache_beam as beam\n",
        "from apache_beam.io import ReadFromText\n",
        "from apache_beam.io import WriteToText\n",
        "from apache_beam.options.pipeline_options import GoogleCloudOptions\n",
        "from apache_beam.options.pipeline_options import PipelineOptions\n",
        "from apache_beam.options.pipeline_options import SetupOptions\n",
        "from apache_beam.coders.coders import Coder\n",
        "\n",
        "import pickle\n",
        "import tensorflow as tf\n",
        "from tensorflow.keras.preprocessing.sequence import pad_sequences\n",
        "\n",
        "# KERAS\n",
        "SEQUENCE_LENGTH = 300\n",
        "\n",
        "# SENTIMENT\n",
        "PERSON = \"PERSON\"\n",
        "TROLL = \"TROLL\"\n",
        "\n",
        "# EXPORT\n",
        "KERAS_MODEL = \"model.h5\"\n",
        "TOKENIZER_MODEL = \"tokenizer.pkl\"\n",
        "\n",
        "\n",
        "class Predict(beam.DoFn):\n",
        "    def __init__(\n",
        "        self, model_dir,\n",
        "    ):\n",
        "        self.model_dir = model_dir\n",
        "        self.model = None\n",
        "        self.tokenizer = None\n",
        "\n",
        "    def setup(self):\n",
        "        keras_model_path = os.path.join(self.model_dir, KERAS_MODEL)\n",
        "        with tempfile.NamedTemporaryFile(suffix=\".h5\") as local_file:\n",
        "            with tf.io.gfile.GFile(keras_model_path, mode=\"rb\") as gcs_file:\n",
        "                local_file.write(gcs_file.read())\n",
        "                self.model = tf.keras.models.load_model(local_file.name)\n",
        "\n",
        "        tokenizer_path = os.path.join(self.model_dir, TOKENIZER_MODEL)\n",
        "        self.tokenizer = pickle.load(tf.io.gfile.GFile(tokenizer_path, mode=\"rb\"))\n",
        "\n",
        "    def decode_sentiment(self, score):\n",
        "      label = TROLL\n",
        "      if score <= 0.5:\n",
        "          label = PERSON\n",
        "      return label\n",
        "\n",
        "    def process(self, element):\n",
        "        start_at = time.time()\n",
        "        # Tokenize text\n",
        "        x_test = pad_sequences(\n",
        "            self.tokenizer.texts_to_sequences([element]), maxlen=SEQUENCE_LENGTH\n",
        "        )\n",
        "        # Predict\n",
        "        score = self.model.predict([x_test])[0]\n",
        "        # Decode sentiment\n",
        "        label = self.decode_sentiment(score)\n",
        "\n",
        "        yield {\n",
        "            \"text\": element,\n",
        "            \"label\": label,\n",
        "            \"score\": float(score),\n",
        "            \"elapsed_time\": time.time() - start_at,\n",
        "        }\n",
        "\n",
        "\n",
        "class CustomCoder(Coder):\n",
        "    \"\"\"A custom coder used for reading and writing strings\"\"\"\n",
        "\n",
        "    def __init__(self, encoding: str):\n",
        "        # latin-1\n",
        "        # iso-8859-1\n",
        "        self.enconding = encoding\n",
        "\n",
        "    def encode(self, value):\n",
        "        return value.encode(self.enconding)\n",
        "\n",
        "    def decode(self, value):\n",
        "        return value.decode(self.enconding)\n",
        "\n",
        "    def is_deterministic(self):\n",
        "        return True\n",
        "\n",
        "\n",
        "def run(model_dir, source, sink, beam_options=None):\n",
        "    with beam.Pipeline(options=beam_options) as p:\n",
        "        _ = (\n",
        "            p\n",
        "            | \"Read data\" >> source\n",
        "            # | \"Preprocess\" >> beam.ParDo(PreprocessTextFn(model_dir, \"ID\"))\n",
        "            | \"Predict\" >> beam.ParDo(Predict(model_dir))\n",
        "            | \"Format as JSON\" >> beam.Map(json.dumps)\n",
        "            | \"Write predictions\" >> sink\n",
        "        )\n",
        "\n",
        "\n",
        "if __name__ == \"__main__\":\n",
        "    \"\"\"Main function\"\"\"\n",
        "    parser = argparse.ArgumentParser(\n",
        "        formatter_class=argparse.ArgumentDefaultsHelpFormatter\n",
        "    )\n",
        "\n",
        "    parser.add_argument(\n",
        "        \"--work-dir\",\n",
        "        dest=\"work_dir\",\n",
        "        required=True,\n",
        "        help=\"Directory for temporary files and preprocessed datasets to. \"\n",
        "        \"This can be a Google Cloud Storage path.\",\n",
        "    )\n",
        "\n",
        "    parser.add_argument(\n",
        "        \"--model-dir\",\n",
        "        dest=\"model_dir\",\n",
        "        required=True,\n",
        "        help=\"Path to the exported TensorFlow model. \"\n",
        "        \"This can be a Google Cloud Storage path.\",\n",
        "    )\n",
        "\n",
        "    verbs = parser.add_subparsers(dest=\"verb\")\n",
        "    batch_verb = verbs.add_parser(\"batch\", help=\"Batch prediction\")\n",
        "    batch_verb.add_argument(\n",
        "        \"--inputs-dir\",\n",
        "        dest=\"inputs_dir\",\n",
        "        required=True,\n",
        "        help=\"Input directory where CSV data files are read from. \"\n",
        "        \"This can be a Google Cloud Storage path.\",\n",
        "    )\n",
        "    batch_verb.add_argument(\n",
        "        \"--outputs-dir\",\n",
        "        dest=\"outputs_dir\",\n",
        "        required=True,\n",
        "        help=\"Directory to store prediction results. \"\n",
        "        \"This can be a Google Cloud Storage path.\",\n",
        "    )\n",
        "\n",
        "    args, pipeline_args = parser.parse_known_args()\n",
        "    print(args)\n",
        "    beam_options = PipelineOptions(pipeline_args)\n",
        "    beam_options.view_as(SetupOptions).save_main_session = True\n",
        "    # beam_options.view_as(DirectOptions).direct_num_workers = 0\n",
        "\n",
        "    project = beam_options.view_as(GoogleCloudOptions).project\n",
        "\n",
        "    if args.verb == \"batch\":\n",
        "        results_prefix = os.path.join(args.outputs_dir, \"part\")\n",
        "\n",
        "        source = ReadFromText(args.inputs_dir, coder=CustomCoder(\"latin-1\"))\n",
        "        sink = WriteToText(results_prefix)\n",
        "\n",
        "    else:\n",
        "        parser.print_usage()\n",
        "        sys.exit(1)\n",
        "\n",
        "    run(args.model_dir, source, sink, beam_options)\n"
      ],
      "execution_count": 19,
      "outputs": [
        {
          "output_type": "stream",
          "name": "stdout",
          "text": [
            "Writing predict.py\n"
          ]
        }
      ]
    },
    {
      "cell_type": "markdown",
      "metadata": {
        "id": "MUdgcLIP7a42"
      },
      "source": [
        "Generamos un timestamp para la ejecución de las predicciones"
      ]
    },
    {
      "cell_type": "code",
      "metadata": {
        "id": "_pvKMtuQPOlr"
      },
      "source": [
        "from datetime import datetime\n",
        "\n",
        "# current date and time\n",
        "TIMESTAMP = datetime.now().strftime('%Y-%m-%d_%H-%M-%S')"
      ],
      "execution_count": 20,
      "outputs": []
    },
    {
      "cell_type": "markdown",
      "metadata": {
        "id": "RkLMdMup70ne"
      },
      "source": [
        "### Validación Predict en local\n",
        "\n",
        "Con el comando mostrado a continuación se valida la correcta inferencia usando los modelos anteriores y los datos de test generados anteriormente."
      ]
    },
    {
      "cell_type": "code",
      "metadata": {
        "id": "iUJN0XCLPR_X",
        "colab": {
          "base_uri": "https://localhost:8080/"
        },
        "outputId": "6251969e-76c8-4002-da97-8aad5bffce80"
      },
      "source": [
        "! python3 predict.py \\\n",
        "  --work-dir $WORK_DIR \\\n",
        "  --model-dir $WORK_DIR/model \\\n",
        "  batch \\\n",
        "  --inputs-dir $WORK_DIR/transformed_data/test/part* \\\n",
        "  --outputs-dir $WORK_DIR/predictions/$TIMESTAMP"
      ],
      "execution_count": 21,
      "outputs": [
        {
          "output_type": "stream",
          "name": "stdout",
          "text": [
            "Namespace(inputs_dir='/content/batch/transformed_data/test/part-00000-of-00002', model_dir='/content/batch/model', outputs_dir='/content/batch/predictions/2022-07-08_22-37-54', verb='batch', work_dir='/content/batch')\n",
            "2022-07-08 22:38:03.990700: W tensorflow/core/common_runtime/gpu/gpu_bfc_allocator.cc:39] Overriding allow_growth setting because the TF_FORCE_GPU_ALLOW_GROWTH environment variable is set. Original config value was 0.\n",
            "WARNING:tensorflow:Layer lstm will not use cuDNN kernels since it doesn't meet the criteria. It will use a generic GPU kernel as fallback when running on GPU.\n",
            "WARNING:tensorflow:Layer lstm will not use cuDNN kernels since it doesn't meet the criteria. It will use a generic GPU kernel as fallback when running on GPU.\n",
            "Traceback (most recent call last):\n",
            "  File \"/usr/local/lib/python3.7/dist-packages/apache_beam/runners/portability/fn_api_runner/fn_runner.py\", line 344, in run_stages\n",
            "    bundle_context_manager,\n",
            "  File \"/usr/local/lib/python3.7/dist-packages/apache_beam/runners/portability/fn_api_runner/fn_runner.py\", line 523, in _run_stage\n",
            "    bundle_manager)\n",
            "  File \"/usr/local/lib/python3.7/dist-packages/apache_beam/runners/portability/fn_api_runner/fn_runner.py\", line 561, in _run_bundle\n",
            "    data_input, data_output, input_timers, expected_timer_output)\n",
            "  File \"/usr/local/lib/python3.7/dist-packages/apache_beam/runners/portability/fn_api_runner/fn_runner.py\", line 945, in process_bundle\n",
            "    timer_inputs)):\n",
            "  File \"/usr/lib/python3.7/concurrent/futures/_base.py\", line 598, in result_iterator\n",
            "    yield fs.pop().result()\n",
            "  File \"/usr/lib/python3.7/concurrent/futures/_base.py\", line 430, in result\n",
            "    self._condition.wait(timeout)\n",
            "  File \"/usr/lib/python3.7/threading.py\", line 296, in wait\n",
            "    waiter.acquire()\n",
            "KeyboardInterrupt\n",
            "\n",
            "During handling of the above exception, another exception occurred:\n",
            "\n",
            "Traceback (most recent call last):\n",
            "  File \"predict.py\", line 166, in <module>\n",
            "    run(args.model_dir, source, sink, beam_options)\n",
            "  File \"predict.py\", line 105, in run\n",
            "    | \"Write predictions\" >> sink\n",
            "  File \"/usr/local/lib/python3.7/dist-packages/apache_beam/pipeline.py\", line 555, in __exit__\n",
            "    self.result = self.run()\n",
            "  File \"/usr/local/lib/python3.7/dist-packages/apache_beam/pipeline.py\", line 534, in run\n",
            "    return self.runner.run_pipeline(self, self._options)\n",
            "  File \"/usr/local/lib/python3.7/dist-packages/apache_beam/runners/direct/direct_runner.py\", line 119, in run_pipeline\n",
            "    return runner.run_pipeline(pipeline, options)\n",
            "  File \"/usr/local/lib/python3.7/dist-packages/apache_beam/runners/portability/fn_api_runner/fn_runner.py\", line 176, in run_pipeline\n",
            "    pipeline.to_runner_api(default_environment=self._default_environment))\n",
            "  File \"/usr/local/lib/python3.7/dist-packages/apache_beam/runners/portability/fn_api_runner/fn_runner.py\", line 186, in run_via_runner_api\n",
            "    return self.run_stages(stage_context, stages)\n",
            "  File \"/usr/local/lib/python3.7/dist-packages/apache_beam/runners/portability/fn_api_runner/fn_runner.py\", line 349, in run_stages\n",
            "    worker_handler_manager.close_all()\n",
            "  File \"/usr/local/lib/python3.7/dist-packages/apache_beam/runners/portability/fn_api_runner/worker_handlers.py\", line 858, in close_all\n",
            "    worker_handler.close()\n",
            "  File \"/usr/local/lib/python3.7/dist-packages/apache_beam/runners/portability/fn_api_runner/worker_handlers.py\", line 271, in close\n",
            "    self.stop_worker()\n",
            "  File \"/usr/local/lib/python3.7/dist-packages/apache_beam/runners/portability/fn_api_runner/worker_handlers.py\", line 362, in stop_worker\n",
            "    self.bundle_processor_cache.shutdown()\n",
            "  File \"/usr/local/lib/python3.7/dist-packages/apache_beam/runners/worker/sdk_worker.py\", line 427, in shutdown\n",
            "    self.periodic_shutdown.join()\n",
            "  File \"/usr/lib/python3.7/threading.py\", line 1044, in join\n",
            "    self._wait_for_tstate_lock()\n",
            "  File \"/usr/lib/python3.7/threading.py\", line 1060, in _wait_for_tstate_lock\n",
            "    elif lock.acquire(block, timeout):\n",
            "KeyboardInterrupt\n"
          ]
        }
      ]
    },
    {
      "cell_type": "markdown",
      "metadata": {
        "id": "Um68jx_F8mjF"
      },
      "source": [
        "##Entregable 4 (1.25 puntos)\n",
        "\n",
        "En este entregable se validará el funcionamiento del código en un proyecto de GCP sobre DataFlow y AI Platform"
      ]
    },
    {
      "cell_type": "code",
      "source": [
        "#si funciona en local saltar esto de cloud todo el entregable 4"
      ],
      "metadata": {
        "id": "miKxhVfWLfEh"
      },
      "execution_count": null,
      "outputs": []
    },
    {
      "cell_type": "markdown",
      "metadata": {
        "id": "_JHC9dCT83FH"
      },
      "source": [
        "Establecemos el bucket y region de GCP sobre el que trabajaremos:"
      ]
    },
    {
      "cell_type": "code",
      "metadata": {
        "id": "cgUpX__KQvt-"
      },
      "source": [
        "GCP_WORK_DIR = 'gs://final-practice-test-execution'\n",
        "GCP_REGION = 'us-east1'"
      ],
      "execution_count": null,
      "outputs": []
    },
    {
      "cell_type": "markdown",
      "metadata": {
        "id": "_A66WAfm9DmU"
      },
      "source": [
        "### Validación preprocess train en Dataflow (0.25 puntos)\n",
        "\n",
        "Con el comando mostrado a continuación se valida la correcta generación de los datos de entrenamiento y validación en GCP con el servicio DataFlow."
      ]
    },
    {
      "cell_type": "code",
      "metadata": {
        "id": "EJYVuWyJP1Ya"
      },
      "source": [
        "! python3 preprocess.py \\\n",
        "  --project $PROJECT_ID \\\n",
        "  --region $GCP_REGION \\\n",
        "  --runner DataflowRunner \\\n",
        "  --temp_location $GCP_WORK_DIR/beam-temp \\\n",
        "  --setup_file ./setup.py \\\n",
        "  --work-dir $GCP_WORK_DIR \\\n",
        "  --input $GCP_WORK_DIR/data.json \\\n",
        "  --output $GCP_WORK_DIR/transformed_data \\\n",
        "  --mode train"
      ],
      "execution_count": null,
      "outputs": []
    },
    {
      "cell_type": "markdown",
      "metadata": {
        "id": "8czKRMb99ZRX"
      },
      "source": [
        "### Validación preprocess test en Dataflow (0.25 puntos)\n",
        "\n",
        "Con el comando mostrado a continuación se valida la correcta generación de los datos de test en GCP con el servicio DataFlow."
      ]
    },
    {
      "cell_type": "code",
      "metadata": {
        "id": "45mfSRGdQLBO"
      },
      "source": [
        "! python3 preprocess.py \\\n",
        "  --project $PROJECT_ID \\\n",
        "  --region $GCP_REGION \\\n",
        "  --runner DataflowRunner \\\n",
        "  --temp_location $GCP_WORK_DIR/beam-temp \\\n",
        "  --setup_file ./setup.py \\\n",
        "  --work-dir $GCP_WORK_DIR \\\n",
        "  --input $GCP_WORK_DIR/data.json \\\n",
        "  --output $GCP_WORK_DIR/transformed_data \\\n",
        "  --mode test"
      ],
      "execution_count": null,
      "outputs": []
    },
    {
      "cell_type": "markdown",
      "metadata": {
        "id": "NFNxYtxW9fP9"
      },
      "source": [
        "### Validación Train en AI Platform (0.5 puntos)\n",
        "\n",
        "Con el comando mostrado a continuación se valida el correcto entrenamiento del modelo usando los datos de las ejecuciones anteriores en GCP con los datos obtenidos almacenados en Google Cloud Storage."
      ]
    },
    {
      "cell_type": "markdown",
      "metadata": {
        "id": "b0fP_5Gy9zfz"
      },
      "source": [
        "Generamos un nombre para el job de entrenamiento y donde se almacenarán los metadatos."
      ]
    },
    {
      "cell_type": "code",
      "metadata": {
        "id": "_eU0FkyLQPt6"
      },
      "source": [
        "JOB = \"troll_detection_batch_$(date +%Y%m%d_%H%M%S)\"\n",
        "JOB_DIR = GCP_WORK_DIR + \"/trainer\""
      ],
      "execution_count": null,
      "outputs": []
    },
    {
      "cell_type": "code",
      "metadata": {
        "id": "3Z33nVs5QSEI"
      },
      "source": [
        "! gcloud ai-platform jobs submit training $JOB \\\n",
        "  --module-name trainer.task \\\n",
        "  --package-path trainer \\\n",
        "  --scale-tier basic_gpu \\\n",
        "  --python-version 3.7 \\\n",
        "  --runtime-version 2.1 \\\n",
        "  --region $GCP_REGION \\\n",
        "  --job-dir $JOB_DIR \\\n",
        "  --stream-logs \\\n",
        "  -- \\\n",
        "  --work-dir $GCP_WORK_DIR \\\n",
        "  --epochs 1"
      ],
      "execution_count": null,
      "outputs": []
    },
    {
      "cell_type": "markdown",
      "metadata": {
        "id": "wu5SOWsy9886"
      },
      "source": [
        "### Validación predict en Dataflow (0.25 puntos)\n",
        "\n",
        "Con el comando mostrado a continuación se valida la predicción correcta de los datos de test usando los modelos generados en el comando anterior."
      ]
    },
    {
      "cell_type": "markdown",
      "metadata": {
        "id": "OXoHCgMg-LUD"
      },
      "source": [
        "Generamos un timestamp para el almacenamiento de las inferencias en Google Cloud Storage."
      ]
    },
    {
      "cell_type": "code",
      "metadata": {
        "id": "fmcetQtnQjVo"
      },
      "source": [
        "from datetime import datetime\n",
        "\n",
        "# current date and time\n",
        "TIMESTAMP = datetime.now().strftime('%Y-%m-%d_%H-%M-%S')"
      ],
      "execution_count": null,
      "outputs": []
    },
    {
      "cell_type": "code",
      "metadata": {
        "id": "zT_NxsKDQlxD"
      },
      "source": [
        "# For using sample models: --model-dir gs://$BUCKET_NAME/models/\n",
        "! python3 predict.py \\\n",
        "  --work-dir $GCP_WORK_DIR \\\n",
        "  --model-dir $GCP_WORK_DIR/model/ \\\n",
        "  batch \\\n",
        "  --project $PROJECT_ID \\\n",
        "  --region $GCP_REGION \\\n",
        "  --runner DataflowRunner \\\n",
        "  --temp_location $GCP_WORK_DIR/beam-temp \\\n",
        "  --setup_file ./setup.py \\\n",
        "  --inputs-dir $GCP_WORK_DIR/transformed_data/test/part* \\\n",
        "  --outputs-dir $GCP_WORK_DIR/predictions/$TIMESTAMP"
      ],
      "execution_count": null,
      "outputs": []
    },
    {
      "cell_type": "markdown",
      "metadata": {
        "id": "9GWbfFvwQTGS"
      },
      "source": [
        "# Inferencia online\n",
        "\n",
        "En esta segunda parte de la práctica se realizará un microservicio de inferencia online usando los modelos generados en la primera parte. Para esta parte de la práctica el código de vuestro microservicio deberá estar subido en un repositorio. En la variable de debajo deberéis dejar la URL a vuestro repositorrio pues será el contenido con el que serás evaluado. \n",
        "\n",
        "**Importante:** asegúrate de crear el repositorio de manera pública para poder clonarlo.\n",
        "\n",
        "A continuación os dejo un diagrama con la arquitectura que se va a desarrollar:\n",
        "\n",
        "![online_diagram](https://drive.google.com/uc?export=view&id=1zR7Cwp0Vq1QeTxwLoJ8YJNRM9G5KVh2S)"
      ]
    },
    {
      "cell_type": "code",
      "metadata": {
        "id": "REn23OCIBjXF"
      },
      "source": [
        "REPOSITORIO = \"https://github.com/jorge-melgosa/KCBDML9_espliegue-de-algoritmos.git\"\n",
        "\n",
        "#subir todos los archivos al repositorio que creemos para la practica\n",
        "\n",
        "# enumos: cambiar la estructura\n",
        "# servises modelos: cambiar la parte de sentimiento similar a batch\n",
        "# si cambiamos el nombre del enum, cambiar en prediction"
      ],
      "execution_count": 7,
      "outputs": []
    },
    {
      "cell_type": "markdown",
      "metadata": {
        "id": "NqBT-b_8BsIR"
      },
      "source": [
        "Creamos el directorio donde trabajaremos."
      ]
    },
    {
      "cell_type": "code",
      "metadata": {
        "id": "VAskyBUAQZHx",
        "colab": {
          "base_uri": "https://localhost:8080/"
        },
        "outputId": "3c23b978-71fc-4071-d746-c81817957d81"
      },
      "source": [
        "%mkdir /content/online\n",
        "%cd /content/online"
      ],
      "execution_count": 34,
      "outputs": [
        {
          "output_type": "stream",
          "name": "stdout",
          "text": [
            "mkdir: cannot create directory ‘/content/online’: File exists\n",
            "/content/online\n"
          ]
        }
      ]
    },
    {
      "cell_type": "code",
      "metadata": {
        "id": "xlj7lGW3Q6CS",
        "colab": {
          "base_uri": "https://localhost:8080/"
        },
        "outputId": "d89ecf6b-b135-4303-d76c-418930882666"
      },
      "source": [
        "# Clone the repository\n",
        "! git clone $REPOSITORIO\n",
        "\n",
        "# Set the working directory to the sample code directory\n",
        "%cd ./KCBDML9_espliegue-de-algoritmos\n",
        "\n",
        "# Change to develop\n",
        "! git checkout develop"
      ],
      "execution_count": 35,
      "outputs": [
        {
          "output_type": "stream",
          "name": "stdout",
          "text": [
            "fatal: destination path 'KCBDML9_espliegue-de-algoritmos' already exists and is not an empty directory.\n",
            "/content/online/KCBDML9_espliegue-de-algoritmos\n",
            "error: pathspec 'develop' did not match any file(s) known to git.\n"
          ]
        }
      ]
    },
    {
      "cell_type": "code",
      "metadata": {
        "id": "FndkRszYQ8_f",
        "colab": {
          "base_uri": "https://localhost:8080/"
        },
        "outputId": "516db444-8f1b-4ea1-dd9b-02118a045356"
      },
      "source": [
        "! pip install -r requirements.txt"
      ],
      "execution_count": 36,
      "outputs": [
        {
          "output_type": "stream",
          "name": "stdout",
          "text": [
            "Looking in indexes: https://pypi.org/simple, https://us-python.pkg.dev/colab-wheels/public/simple/\n",
            "Requirement already satisfied: requests==2.25.0 in /usr/local/lib/python3.7/dist-packages (from -r requirements.txt (line 1)) (2.25.0)\n",
            "Requirement already satisfied: uvicorn==0.12.2 in /usr/local/lib/python3.7/dist-packages (from -r requirements.txt (line 2)) (0.12.2)\n",
            "Requirement already satisfied: fastapi==0.61.2 in /usr/local/lib/python3.7/dist-packages (from -r requirements.txt (line 3)) (0.61.2)\n",
            "Requirement already satisfied: h5py==2.10.0 in /usr/local/lib/python3.7/dist-packages (from -r requirements.txt (line 4)) (2.10.0)\n",
            "Requirement already satisfied: scikit-learn==0.23.2 in /usr/local/lib/python3.7/dist-packages (from -r requirements.txt (line 5)) (0.23.2)\n",
            "Requirement already satisfied: scipy==1.4.1 in /usr/local/lib/python3.7/dist-packages (from -r requirements.txt (line 6)) (1.4.1)\n",
            "Requirement already satisfied: tensorflow==2.1.0 in /usr/local/lib/python3.7/dist-packages (from -r requirements.txt (line 7)) (2.1.0)\n",
            "Requirement already satisfied: loguru==0.5.3 in /usr/local/lib/python3.7/dist-packages (from -r requirements.txt (line 8)) (0.5.3)\n",
            "Requirement already satisfied: gensim==3.6.0 in /usr/local/lib/python3.7/dist-packages (from -r requirements.txt (line 9)) (3.6.0)\n",
            "Requirement already satisfied: fsspec==0.8.4 in /usr/local/lib/python3.7/dist-packages (from -r requirements.txt (line 10)) (0.8.4)\n",
            "Requirement already satisfied: gcsfs==0.7.1 in /usr/local/lib/python3.7/dist-packages (from -r requirements.txt (line 11)) (0.7.1)\n",
            "Requirement already satisfied: numpy==1.19.5 in /usr/local/lib/python3.7/dist-packages (from -r requirements.txt (line 12)) (1.19.5)\n",
            "Requirement already satisfied: idna<3,>=2.5 in /usr/local/lib/python3.7/dist-packages (from requests==2.25.0->-r requirements.txt (line 1)) (2.10)\n",
            "Requirement already satisfied: urllib3<1.27,>=1.21.1 in /usr/local/lib/python3.7/dist-packages (from requests==2.25.0->-r requirements.txt (line 1)) (1.24.3)\n",
            "Requirement already satisfied: certifi>=2017.4.17 in /usr/local/lib/python3.7/dist-packages (from requests==2.25.0->-r requirements.txt (line 1)) (2022.6.15)\n",
            "Requirement already satisfied: chardet<4,>=3.0.2 in /usr/local/lib/python3.7/dist-packages (from requests==2.25.0->-r requirements.txt (line 1)) (3.0.4)\n",
            "Requirement already satisfied: typing-extensions in /usr/local/lib/python3.7/dist-packages (from uvicorn==0.12.2->-r requirements.txt (line 2)) (3.7.4.3)\n",
            "Requirement already satisfied: h11>=0.8 in /usr/local/lib/python3.7/dist-packages (from uvicorn==0.12.2->-r requirements.txt (line 2)) (0.13.0)\n",
            "Requirement already satisfied: click==7.* in /usr/local/lib/python3.7/dist-packages (from uvicorn==0.12.2->-r requirements.txt (line 2)) (7.1.2)\n",
            "Requirement already satisfied: pydantic<2.0.0,>=1.0.0 in /usr/local/lib/python3.7/dist-packages (from fastapi==0.61.2->-r requirements.txt (line 3)) (1.8.2)\n",
            "Requirement already satisfied: starlette==0.13.6 in /usr/local/lib/python3.7/dist-packages (from fastapi==0.61.2->-r requirements.txt (line 3)) (0.13.6)\n",
            "Requirement already satisfied: six in /usr/local/lib/python3.7/dist-packages (from h5py==2.10.0->-r requirements.txt (line 4)) (1.15.0)\n",
            "Requirement already satisfied: joblib>=0.11 in /usr/local/lib/python3.7/dist-packages (from scikit-learn==0.23.2->-r requirements.txt (line 5)) (1.1.0)\n",
            "Requirement already satisfied: threadpoolctl>=2.0.0 in /usr/local/lib/python3.7/dist-packages (from scikit-learn==0.23.2->-r requirements.txt (line 5)) (3.1.0)\n",
            "Requirement already satisfied: wheel>=0.26 in /usr/local/lib/python3.7/dist-packages (from tensorflow==2.1.0->-r requirements.txt (line 7)) (0.37.1)\n",
            "Requirement already satisfied: keras-preprocessing>=1.1.0 in /usr/local/lib/python3.7/dist-packages (from tensorflow==2.1.0->-r requirements.txt (line 7)) (1.1.2)\n",
            "Requirement already satisfied: tensorboard<2.2.0,>=2.1.0 in /usr/local/lib/python3.7/dist-packages (from tensorflow==2.1.0->-r requirements.txt (line 7)) (2.1.1)\n",
            "Requirement already satisfied: protobuf>=3.8.0 in /usr/local/lib/python3.7/dist-packages (from tensorflow==2.1.0->-r requirements.txt (line 7)) (3.17.3)\n",
            "Requirement already satisfied: keras-applications>=1.0.8 in /usr/local/lib/python3.7/dist-packages (from tensorflow==2.1.0->-r requirements.txt (line 7)) (1.0.8)\n",
            "Requirement already satisfied: wrapt>=1.11.1 in /usr/local/lib/python3.7/dist-packages (from tensorflow==2.1.0->-r requirements.txt (line 7)) (1.14.1)\n",
            "Requirement already satisfied: absl-py>=0.7.0 in /usr/local/lib/python3.7/dist-packages (from tensorflow==2.1.0->-r requirements.txt (line 7)) (1.1.0)\n",
            "Requirement already satisfied: grpcio>=1.8.6 in /usr/local/lib/python3.7/dist-packages (from tensorflow==2.1.0->-r requirements.txt (line 7)) (1.46.3)\n",
            "Requirement already satisfied: termcolor>=1.1.0 in /usr/local/lib/python3.7/dist-packages (from tensorflow==2.1.0->-r requirements.txt (line 7)) (1.1.0)\n",
            "Requirement already satisfied: astor>=0.6.0 in /usr/local/lib/python3.7/dist-packages (from tensorflow==2.1.0->-r requirements.txt (line 7)) (0.8.1)\n",
            "Requirement already satisfied: gast==0.2.2 in /usr/local/lib/python3.7/dist-packages (from tensorflow==2.1.0->-r requirements.txt (line 7)) (0.2.2)\n",
            "Requirement already satisfied: opt-einsum>=2.3.2 in /usr/local/lib/python3.7/dist-packages (from tensorflow==2.1.0->-r requirements.txt (line 7)) (3.3.0)\n",
            "Requirement already satisfied: tensorflow-estimator<2.2.0,>=2.1.0rc0 in /usr/local/lib/python3.7/dist-packages (from tensorflow==2.1.0->-r requirements.txt (line 7)) (2.1.0)\n",
            "Requirement already satisfied: google-pasta>=0.1.6 in /usr/local/lib/python3.7/dist-packages (from tensorflow==2.1.0->-r requirements.txt (line 7)) (0.2.0)\n",
            "Requirement already satisfied: smart-open>=1.2.1 in /usr/local/lib/python3.7/dist-packages (from gensim==3.6.0->-r requirements.txt (line 9)) (5.2.1)\n",
            "Requirement already satisfied: google-auth-oauthlib in /usr/local/lib/python3.7/dist-packages (from gcsfs==0.7.1->-r requirements.txt (line 11)) (0.4.6)\n",
            "Requirement already satisfied: aiohttp in /usr/local/lib/python3.7/dist-packages (from gcsfs==0.7.1->-r requirements.txt (line 11)) (3.8.1)\n",
            "Requirement already satisfied: decorator in /usr/local/lib/python3.7/dist-packages (from gcsfs==0.7.1->-r requirements.txt (line 11)) (4.4.2)\n",
            "Requirement already satisfied: google-auth>=1.2 in /usr/local/lib/python3.7/dist-packages (from gcsfs==0.7.1->-r requirements.txt (line 11)) (1.35.0)\n",
            "Requirement already satisfied: pyasn1-modules>=0.2.1 in /usr/local/lib/python3.7/dist-packages (from google-auth>=1.2->gcsfs==0.7.1->-r requirements.txt (line 11)) (0.2.8)\n",
            "Requirement already satisfied: setuptools>=40.3.0 in /usr/local/lib/python3.7/dist-packages (from google-auth>=1.2->gcsfs==0.7.1->-r requirements.txt (line 11)) (57.4.0)\n",
            "Requirement already satisfied: cachetools<5.0,>=2.0.0 in /usr/local/lib/python3.7/dist-packages (from google-auth>=1.2->gcsfs==0.7.1->-r requirements.txt (line 11)) (3.1.1)\n",
            "Requirement already satisfied: rsa<5,>=3.1.4 in /usr/local/lib/python3.7/dist-packages (from google-auth>=1.2->gcsfs==0.7.1->-r requirements.txt (line 11)) (4.8)\n",
            "Requirement already satisfied: pyasn1<0.5.0,>=0.4.6 in /usr/local/lib/python3.7/dist-packages (from pyasn1-modules>=0.2.1->google-auth>=1.2->gcsfs==0.7.1->-r requirements.txt (line 11)) (0.4.8)\n",
            "Requirement already satisfied: markdown>=2.6.8 in /usr/local/lib/python3.7/dist-packages (from tensorboard<2.2.0,>=2.1.0->tensorflow==2.1.0->-r requirements.txt (line 7)) (3.3.7)\n",
            "Requirement already satisfied: werkzeug>=0.11.15 in /usr/local/lib/python3.7/dist-packages (from tensorboard<2.2.0,>=2.1.0->tensorflow==2.1.0->-r requirements.txt (line 7)) (1.0.1)\n",
            "Requirement already satisfied: requests-oauthlib>=0.7.0 in /usr/local/lib/python3.7/dist-packages (from google-auth-oauthlib->gcsfs==0.7.1->-r requirements.txt (line 11)) (1.3.1)\n",
            "Requirement already satisfied: importlib-metadata>=4.4 in /usr/local/lib/python3.7/dist-packages (from markdown>=2.6.8->tensorboard<2.2.0,>=2.1.0->tensorflow==2.1.0->-r requirements.txt (line 7)) (4.11.4)\n",
            "Requirement already satisfied: zipp>=0.5 in /usr/local/lib/python3.7/dist-packages (from importlib-metadata>=4.4->markdown>=2.6.8->tensorboard<2.2.0,>=2.1.0->tensorflow==2.1.0->-r requirements.txt (line 7)) (3.8.0)\n",
            "Requirement already satisfied: oauthlib>=3.0.0 in /usr/local/lib/python3.7/dist-packages (from requests-oauthlib>=0.7.0->google-auth-oauthlib->gcsfs==0.7.1->-r requirements.txt (line 11)) (3.2.0)\n",
            "Requirement already satisfied: yarl<2.0,>=1.0 in /usr/local/lib/python3.7/dist-packages (from aiohttp->gcsfs==0.7.1->-r requirements.txt (line 11)) (1.7.2)\n",
            "Requirement already satisfied: aiosignal>=1.1.2 in /usr/local/lib/python3.7/dist-packages (from aiohttp->gcsfs==0.7.1->-r requirements.txt (line 11)) (1.2.0)\n",
            "Requirement already satisfied: multidict<7.0,>=4.5 in /usr/local/lib/python3.7/dist-packages (from aiohttp->gcsfs==0.7.1->-r requirements.txt (line 11)) (6.0.2)\n",
            "Requirement already satisfied: attrs>=17.3.0 in /usr/local/lib/python3.7/dist-packages (from aiohttp->gcsfs==0.7.1->-r requirements.txt (line 11)) (21.4.0)\n",
            "Requirement already satisfied: charset-normalizer<3.0,>=2.0 in /usr/local/lib/python3.7/dist-packages (from aiohttp->gcsfs==0.7.1->-r requirements.txt (line 11)) (2.1.0)\n",
            "Requirement already satisfied: frozenlist>=1.1.1 in /usr/local/lib/python3.7/dist-packages (from aiohttp->gcsfs==0.7.1->-r requirements.txt (line 11)) (1.3.0)\n",
            "Requirement already satisfied: asynctest==0.13.0 in /usr/local/lib/python3.7/dist-packages (from aiohttp->gcsfs==0.7.1->-r requirements.txt (line 11)) (0.13.0)\n",
            "Requirement already satisfied: async-timeout<5.0,>=4.0.0a3 in /usr/local/lib/python3.7/dist-packages (from aiohttp->gcsfs==0.7.1->-r requirements.txt (line 11)) (4.0.2)\n"
          ]
        }
      ]
    },
    {
      "cell_type": "code",
      "metadata": {
        "id": "IefrYp6tJ4PE",
        "colab": {
          "base_uri": "https://localhost:8080/"
        },
        "outputId": "f74c7c74-71f7-4f39-9080-9a4206cdcedf"
      },
      "source": [
        "! pip install pyngrok"
      ],
      "execution_count": 37,
      "outputs": [
        {
          "output_type": "stream",
          "name": "stdout",
          "text": [
            "Looking in indexes: https://pypi.org/simple, https://us-python.pkg.dev/colab-wheels/public/simple/\n",
            "Requirement already satisfied: pyngrok in /usr/local/lib/python3.7/dist-packages (5.1.0)\n",
            "Requirement already satisfied: PyYAML in /usr/local/lib/python3.7/dist-packages (from pyngrok) (3.13)\n"
          ]
        }
      ]
    },
    {
      "cell_type": "markdown",
      "metadata": {
        "id": "qNde3TEzCmjg"
      },
      "source": [
        "Para cuando estes modificando, probando y ejecutando ficheros os dejo en las celdas de abajo los comandos de git necesarios para interaccionar con vuestro repositorio en caso de que queráis:"
      ]
    },
    {
      "cell_type": "code",
      "metadata": {
        "id": "qsjWKcYZC6mm",
        "colab": {
          "base_uri": "https://localhost:8080/"
        },
        "outputId": "84f1e4cd-8b80-4600-b5e4-259a9ae93e12"
      },
      "source": [
        "! git status"
      ],
      "execution_count": 27,
      "outputs": [
        {
          "output_type": "stream",
          "name": "stdout",
          "text": [
            "On branch main\n",
            "Your branch is up to date with 'origin/main'.\n",
            "\n",
            "nothing to commit, working tree clean\n"
          ]
        }
      ]
    },
    {
      "cell_type": "code",
      "metadata": {
        "id": "PuVHFtqvC8Kw",
        "colab": {
          "base_uri": "https://localhost:8080/"
        },
        "outputId": "f8a3614c-a9d3-41d2-e24b-8d223949e6c8"
      },
      "source": [
        "! git add <files>\n",
        "! git commit -m \"Nuevos cambios\"\n",
        "! git push origin master"
      ],
      "execution_count": 28,
      "outputs": [
        {
          "output_type": "stream",
          "name": "stdout",
          "text": [
            "/bin/bash: -c: line 0: syntax error near unexpected token `newline'\n",
            "/bin/bash: -c: line 0: ` git add <files>'\n",
            "\n",
            "*** Please tell me who you are.\n",
            "\n",
            "Run\n",
            "\n",
            "  git config --global user.email \"you@example.com\"\n",
            "  git config --global user.name \"Your Name\"\n",
            "\n",
            "to set your account's default identity.\n",
            "Omit --global to set the identity only in this repository.\n",
            "\n",
            "fatal: unable to auto-detect email address (got 'root@732a9dac1f31.(none)')\n",
            "error: src refspec master does not match any.\n",
            "error: failed to push some refs to 'https://github.com/jorge-melgosa/KCBDML9_espliegue-de-algoritmos.git'\n"
          ]
        }
      ]
    },
    {
      "cell_type": "markdown",
      "metadata": {
        "id": "H88vcTU_DDpv"
      },
      "source": [
        "Será necesario definir y establecer la variable de entorno `DEFAULT_MODEL_PATH` para definir donde están almacenados nuestros modelos para hacer inferencia."
      ]
    },
    {
      "cell_type": "code",
      "metadata": {
        "id": "Tn9xsgx4u5xP"
      },
      "source": [
        "import os\n",
        "\n",
        "os.environ[\"DEFAULT_MODEL_PATH\"] = \"/content/batch/model/\""
      ],
      "execution_count": 38,
      "outputs": []
    },
    {
      "cell_type": "markdown",
      "metadata": {
        "id": "z-IslHWwDSTU"
      },
      "source": [
        "### Validación inferencia online en local (1.75 puntos)\n",
        "\n",
        "Se validará la correcta inferencia del microservio en local utilizando Swagger. Para ejecutar en local solo hay que ejecutar los comandos a continuación. Después, entrar en la URL proporcionada por ngrock `<ngrok_url>/docs` para acceder a swagger y probar la inferencia como vimos en clase."
      ]
    },
    {
      "cell_type": "code",
      "metadata": {
        "id": "81vGToBWJ_h-",
        "colab": {
          "base_uri": "https://localhost:8080/"
        },
        "outputId": "c0f02299-7f91-4333-d728-6c0691e0ffef"
      },
      "source": [
        "# For testing purposes\n",
        "import nest_asyncio\n",
        "from pyngrok import ngrok, conf\n",
        "\n",
        "conf.get_default().auth_token = \"2BfKAeBaVI7DyxRZ9oS2Mg2nKpX_ZftpND2RQXobBNdX33SC\"\n",
        "\n",
        "ngrok_tunnel = ngrok.connect(8000)\n",
        "print('Public URL:', ngrok_tunnel.public_url)\n",
        "nest_asyncio.apply()"
      ],
      "execution_count": 39,
      "outputs": [
        {
          "output_type": "stream",
          "name": "stdout",
          "text": [
            "Public URL: http://31af-35-227-114-192.ngrok.io\n"
          ]
        }
      ]
    },
    {
      "cell_type": "code",
      "metadata": {
        "id": "hFeSh7rcuG7L",
        "colab": {
          "base_uri": "https://localhost:8080/"
        },
        "outputId": "2475671e-c83f-43d8-e031-b77f4b90f242"
      },
      "source": [
        "! uvicorn app.main:app --port 8000"
      ],
      "execution_count": 40,
      "outputs": [
        {
          "output_type": "stream",
          "name": "stdout",
          "text": [
            "2022-07-08 23:01:53.496955: W tensorflow/stream_executor/platform/default/dso_loader.cc:55] Could not load dynamic library 'libnvinfer.so.6'; dlerror: libnvinfer.so.6: cannot open shared object file: No such file or directory; LD_LIBRARY_PATH: /usr/lib64-nvidia\n",
            "2022-07-08 23:01:53.497108: W tensorflow/stream_executor/platform/default/dso_loader.cc:55] Could not load dynamic library 'libnvinfer_plugin.so.6'; dlerror: libnvinfer_plugin.so.6: cannot open shared object file: No such file or directory; LD_LIBRARY_PATH: /usr/lib64-nvidia\n",
            "2022-07-08 23:01:53.497135: W tensorflow/compiler/tf2tensorrt/utils/py_utils.cc:30] Cannot dlopen some TensorRT libraries. If you would like to use Nvidia GPU with TensorRT, please make sure the missing libraries mentioned above are installed properly.\n",
            "\u001b[32mINFO\u001b[0m:     Started server process [\u001b[36m1696\u001b[0m]\n",
            "\u001b[32mINFO\u001b[0m:     Waiting for application startup.\n",
            "\u001b[32m2022-07-08 23:01:55.546\u001b[0m | \u001b[1mINFO    \u001b[0m | \u001b[36mapp.core.event_handlers\u001b[0m:\u001b[36mstartup\u001b[0m:\u001b[36m22\u001b[0m - \u001b[1mRunning app start handler.\u001b[0m\n",
            "2022-07-08 23:01:55.666270: I tensorflow/stream_executor/platform/default/dso_loader.cc:44] Successfully opened dynamic library libcuda.so.1\n",
            "2022-07-08 23:01:55.719298: I tensorflow/stream_executor/cuda/cuda_gpu_executor.cc:981] successful NUMA node read from SysFS had negative value (-1), but there must be at least one NUMA node, so returning NUMA node zero\n",
            "2022-07-08 23:01:55.720367: I tensorflow/core/common_runtime/gpu/gpu_device.cc:1555] Found device 0 with properties: \n",
            "pciBusID: 0000:00:04.0 name: Tesla T4 computeCapability: 7.5\n",
            "coreClock: 1.59GHz coreCount: 40 deviceMemorySize: 14.75GiB deviceMemoryBandwidth: 298.08GiB/s\n",
            "2022-07-08 23:01:55.720842: I tensorflow/stream_executor/platform/default/dso_loader.cc:44] Successfully opened dynamic library libcudart.so.10.1\n",
            "2022-07-08 23:01:55.723485: I tensorflow/stream_executor/platform/default/dso_loader.cc:44] Successfully opened dynamic library libcublas.so.10\n",
            "2022-07-08 23:01:55.724887: I tensorflow/stream_executor/platform/default/dso_loader.cc:44] Successfully opened dynamic library libcufft.so.10\n",
            "2022-07-08 23:01:55.725324: I tensorflow/stream_executor/platform/default/dso_loader.cc:44] Successfully opened dynamic library libcurand.so.10\n",
            "2022-07-08 23:01:55.727971: I tensorflow/stream_executor/platform/default/dso_loader.cc:44] Successfully opened dynamic library libcusolver.so.10\n",
            "2022-07-08 23:01:55.728974: I tensorflow/stream_executor/platform/default/dso_loader.cc:44] Successfully opened dynamic library libcusparse.so.10\n",
            "2022-07-08 23:01:55.733487: I tensorflow/stream_executor/platform/default/dso_loader.cc:44] Successfully opened dynamic library libcudnn.so.7\n",
            "2022-07-08 23:01:55.733626: I tensorflow/stream_executor/cuda/cuda_gpu_executor.cc:981] successful NUMA node read from SysFS had negative value (-1), but there must be at least one NUMA node, so returning NUMA node zero\n",
            "2022-07-08 23:01:55.734521: I tensorflow/stream_executor/cuda/cuda_gpu_executor.cc:981] successful NUMA node read from SysFS had negative value (-1), but there must be at least one NUMA node, so returning NUMA node zero\n",
            "2022-07-08 23:01:55.735324: I tensorflow/core/common_runtime/gpu/gpu_device.cc:1697] Adding visible gpu devices: 0\n",
            "2022-07-08 23:01:55.735750: I tensorflow/core/platform/cpu_feature_guard.cc:142] Your CPU supports instructions that this TensorFlow binary was not compiled to use: AVX2 FMA\n",
            "2022-07-08 23:01:55.748009: I tensorflow/core/platform/profile_utils/cpu_utils.cc:94] CPU Frequency: 2299995000 Hz\n",
            "2022-07-08 23:01:55.748488: I tensorflow/compiler/xla/service/service.cc:168] XLA service 0x20b4a00 initialized for platform Host (this does not guarantee that XLA will be used). Devices:\n",
            "2022-07-08 23:01:55.748527: I tensorflow/compiler/xla/service/service.cc:176]   StreamExecutor device (0): Host, Default Version\n",
            "2022-07-08 23:01:55.997002: I tensorflow/stream_executor/cuda/cuda_gpu_executor.cc:981] successful NUMA node read from SysFS had negative value (-1), but there must be at least one NUMA node, so returning NUMA node zero\n",
            "2022-07-08 23:01:55.998161: I tensorflow/compiler/xla/service/service.cc:168] XLA service 0x20b4bc0 initialized for platform CUDA (this does not guarantee that XLA will be used). Devices:\n",
            "2022-07-08 23:01:55.998220: I tensorflow/compiler/xla/service/service.cc:176]   StreamExecutor device (0): Tesla T4, Compute Capability 7.5\n",
            "2022-07-08 23:01:55.998497: I tensorflow/stream_executor/cuda/cuda_gpu_executor.cc:981] successful NUMA node read from SysFS had negative value (-1), but there must be at least one NUMA node, so returning NUMA node zero\n",
            "2022-07-08 23:01:55.999386: I tensorflow/core/common_runtime/gpu/gpu_device.cc:1555] Found device 0 with properties: \n",
            "pciBusID: 0000:00:04.0 name: Tesla T4 computeCapability: 7.5\n",
            "coreClock: 1.59GHz coreCount: 40 deviceMemorySize: 14.75GiB deviceMemoryBandwidth: 298.08GiB/s\n",
            "2022-07-08 23:01:55.999476: I tensorflow/stream_executor/platform/default/dso_loader.cc:44] Successfully opened dynamic library libcudart.so.10.1\n",
            "2022-07-08 23:01:55.999512: I tensorflow/stream_executor/platform/default/dso_loader.cc:44] Successfully opened dynamic library libcublas.so.10\n",
            "2022-07-08 23:01:55.999537: I tensorflow/stream_executor/platform/default/dso_loader.cc:44] Successfully opened dynamic library libcufft.so.10\n",
            "2022-07-08 23:01:55.999560: I tensorflow/stream_executor/platform/default/dso_loader.cc:44] Successfully opened dynamic library libcurand.so.10\n",
            "2022-07-08 23:01:55.999585: I tensorflow/stream_executor/platform/default/dso_loader.cc:44] Successfully opened dynamic library libcusolver.so.10\n",
            "2022-07-08 23:01:55.999608: I tensorflow/stream_executor/platform/default/dso_loader.cc:44] Successfully opened dynamic library libcusparse.so.10\n",
            "2022-07-08 23:01:55.999630: I tensorflow/stream_executor/platform/default/dso_loader.cc:44] Successfully opened dynamic library libcudnn.so.7\n",
            "2022-07-08 23:01:55.999712: I tensorflow/stream_executor/cuda/cuda_gpu_executor.cc:981] successful NUMA node read from SysFS had negative value (-1), but there must be at least one NUMA node, so returning NUMA node zero\n",
            "2022-07-08 23:01:56.000600: I tensorflow/stream_executor/cuda/cuda_gpu_executor.cc:981] successful NUMA node read from SysFS had negative value (-1), but there must be at least one NUMA node, so returning NUMA node zero\n",
            "2022-07-08 23:01:56.001501: I tensorflow/core/common_runtime/gpu/gpu_device.cc:1697] Adding visible gpu devices: 0\n",
            "2022-07-08 23:01:56.001598: I tensorflow/stream_executor/platform/default/dso_loader.cc:44] Successfully opened dynamic library libcudart.so.10.1\n",
            "2022-07-08 23:01:56.003097: I tensorflow/core/common_runtime/gpu/gpu_device.cc:1096] Device interconnect StreamExecutor with strength 1 edge matrix:\n",
            "2022-07-08 23:01:56.003139: I tensorflow/core/common_runtime/gpu/gpu_device.cc:1102]      0 \n",
            "2022-07-08 23:01:56.003158: I tensorflow/core/common_runtime/gpu/gpu_device.cc:1115] 0:   N \n",
            "2022-07-08 23:01:56.003305: I tensorflow/stream_executor/cuda/cuda_gpu_executor.cc:981] successful NUMA node read from SysFS had negative value (-1), but there must be at least one NUMA node, so returning NUMA node zero\n",
            "2022-07-08 23:01:56.004294: I tensorflow/stream_executor/cuda/cuda_gpu_executor.cc:981] successful NUMA node read from SysFS had negative value (-1), but there must be at least one NUMA node, so returning NUMA node zero\n",
            "2022-07-08 23:01:56.005168: W tensorflow/core/common_runtime/gpu/gpu_bfc_allocator.cc:39] Overriding allow_growth setting because the TF_FORCE_GPU_ALLOW_GROWTH environment variable is set. Original config value was 0.\n",
            "2022-07-08 23:01:56.005223: I tensorflow/core/common_runtime/gpu/gpu_device.cc:1241] Created TensorFlow device (/job:localhost/replica:0/task:0/device:GPU:0 with 14257 MB memory) -> physical GPU (device: 0, name: Tesla T4, pci bus id: 0000:00:04.0, compute capability: 7.5)\n",
            "\u001b[32mINFO\u001b[0m:     Application startup complete.\n",
            "\u001b[32mINFO\u001b[0m:     Uvicorn running on \u001b[1mhttp://127.0.0.1:8000\u001b[0m (Press CTRL+C to quit)\n",
            "\u001b[32mINFO\u001b[0m:     79.150.88.185:0 - \"\u001b[1mGET /docs HTTP/1.1\u001b[0m\" \u001b[32m200 OK\u001b[0m\n",
            "\u001b[32mINFO\u001b[0m:     79.150.88.185:0 - \"\u001b[1mGET /openapi.json HTTP/1.1\u001b[0m\" \u001b[32m200 OK\u001b[0m\n",
            "\u001b[32mINFO\u001b[0m:     79.150.88.185:0 - \"\u001b[1mGET /openapi.json HTTP/1.1\u001b[0m\" \u001b[32m200 OK\u001b[0m\n",
            "\u001b[32mINFO\u001b[0m:     79.150.88.185:0 - \"\u001b[1mGET /api/model/predict HTTP/1.1\u001b[0m\" \u001b[31m405 Method Not Allowed\u001b[0m\n",
            "\u001b[32mINFO\u001b[0m:     79.150.88.185:0 - \"\u001b[1mGET /favicon.ico HTTP/1.1\u001b[0m\" \u001b[31m404 Not Found\u001b[0m\n",
            "\u001b[32mINFO\u001b[0m:     Shutting down\n",
            "\u001b[32mINFO\u001b[0m:     Waiting for application shutdown.\n",
            "\u001b[32m2022-07-08 23:05:02.248\u001b[0m | \u001b[1mINFO    \u001b[0m | \u001b[36mapp.core.event_handlers\u001b[0m:\u001b[36mshutdown\u001b[0m:\u001b[36m30\u001b[0m - \u001b[1mRunning app shutdown handler.\u001b[0m\n",
            "\u001b[32mINFO\u001b[0m:     Application shutdown complete.\n",
            "\u001b[32mINFO\u001b[0m:     Finished server process [\u001b[36m1696\u001b[0m]\n"
          ]
        }
      ]
    },
    {
      "cell_type": "markdown",
      "metadata": {
        "id": "fuLtOjukEMIl"
      },
      "source": [
        "### Validación inferencia online en GCP (1.75 puntos)\n",
        "\n",
        "Se validará el correcto funcionamiento del microservicio haciendo una petición POST de inferencia a través de curl al microservicio desplegado en GCP."
      ]
    },
    {
      "cell_type": "code",
      "source": [
        "# si el punto anterior ha funcionado podemos saltar este paso, aunque estaría guay"
      ],
      "metadata": {
        "id": "XmivV2yyMUab"
      },
      "execution_count": null,
      "outputs": []
    },
    {
      "cell_type": "markdown",
      "metadata": {
        "id": "MX1MiTGuD2KS"
      },
      "source": [
        "Primero, contruiremos una imagen Docker con el microservicio y subiremos el desarrollo al Container Repository en GCP a través de Cloud Build."
      ]
    },
    {
      "cell_type": "code",
      "metadata": {
        "id": "PRhq-d_E7-CY",
        "colab": {
          "base_uri": "https://localhost:8080/"
        },
        "outputId": "77813e03-f7da-444a-c4ba-4c51f660c23a"
      },
      "source": [
        "! gcloud builds submit --tag gcr.io/$PROJECT_ID/troll-detection-online-service"
      ],
      "execution_count": 44,
      "outputs": [
        {
          "output_type": "stream",
          "name": "stdout",
          "text": [
            "Creating temporary tarball archive of 40 file(s) totalling 18.0 KiB before compression.\n",
            "Uploading tarball of [.] to [gs://kc-mel-practica-da_cloudbuild/source/1657321909.396535-962289dd9a66434d909cd06807389866.tgz]\n",
            "Created [https://cloudbuild.googleapis.com/v1/projects/kc-mel-practica-da/locations/global/builds/e92615aa-a4be-4847-bfc8-beaffc793e7a].\n",
            "Logs are available at [https://console.cloud.google.com/cloud-build/builds/e92615aa-a4be-4847-bfc8-beaffc793e7a?project=142133149472].\n",
            " REMOTE BUILD OUTPUT\n",
            "starting build \"e92615aa-a4be-4847-bfc8-beaffc793e7a\"\n",
            "\n",
            "FETCHSOURCE\n",
            "Fetching storage object: gs://kc-mel-practica-da_cloudbuild/source/1657321909.396535-962289dd9a66434d909cd06807389866.tgz#1657321910391873\n",
            "Copying gs://kc-mel-practica-da_cloudbuild/source/1657321909.396535-962289dd9a66434d909cd06807389866.tgz#1657321910391873...\n",
            "/ [1 files][  7.6 KiB/  7.6 KiB]                                                \n",
            "Operation completed over 1 objects/7.6 KiB.\n",
            "BUILD\n",
            "Already have image (with digest): gcr.io/cloud-builders/docker\n",
            "Sending build context to Docker daemon  55.81kB\n",
            "Step 1/4 : FROM tiangolo/uvicorn-gunicorn-fastapi:python3.7\n",
            "python3.7: Pulling from tiangolo/uvicorn-gunicorn-fastapi\n",
            "df5590a8898b: Pulling fs layer\n",
            "705bb4cb554e: Pulling fs layer\n",
            "519df5fceacd: Pulling fs layer\n",
            "ccc287cbeddc: Pulling fs layer\n",
            "e3f8e6af58ed: Pulling fs layer\n",
            "aebed27b2d86: Pulling fs layer\n",
            "3b81dff756ff: Pulling fs layer\n",
            "6e4f59a23b58: Pulling fs layer\n",
            "5cdb61eb416d: Pulling fs layer\n",
            "415755650c07: Pulling fs layer\n",
            "82af7648a68a: Pulling fs layer\n",
            "697e3cdf6fdb: Pulling fs layer\n",
            "8d414b25a011: Pulling fs layer\n",
            "3e3cfa737f56: Pulling fs layer\n",
            "1595db7eb9b1: Pulling fs layer\n",
            "d2d3fcd4b870: Pulling fs layer\n",
            "35f87fd78dc8: Pulling fs layer\n",
            "146e266752fc: Pulling fs layer\n",
            "57df244389c0: Pulling fs layer\n",
            "e8391aa94779: Pulling fs layer\n",
            "8d414b25a011: Waiting\n",
            "3e3cfa737f56: Waiting\n",
            "1595db7eb9b1: Waiting\n",
            "d2d3fcd4b870: Waiting\n",
            "35f87fd78dc8: Waiting\n",
            "146e266752fc: Waiting\n",
            "57df244389c0: Waiting\n",
            "e8391aa94779: Waiting\n",
            "e3f8e6af58ed: Waiting\n",
            "aebed27b2d86: Waiting\n",
            "3b81dff756ff: Waiting\n",
            "6e4f59a23b58: Waiting\n",
            "82af7648a68a: Waiting\n",
            "697e3cdf6fdb: Waiting\n",
            "415755650c07: Waiting\n",
            "705bb4cb554e: Verifying Checksum\n",
            "705bb4cb554e: Download complete\n",
            "519df5fceacd: Verifying Checksum\n",
            "519df5fceacd: Download complete\n",
            "ccc287cbeddc: Verifying Checksum\n",
            "ccc287cbeddc: Download complete\n",
            "df5590a8898b: Verifying Checksum\n",
            "df5590a8898b: Download complete\n",
            "aebed27b2d86: Verifying Checksum\n",
            "aebed27b2d86: Download complete\n",
            "6e4f59a23b58: Verifying Checksum\n",
            "6e4f59a23b58: Download complete\n",
            "3b81dff756ff: Verifying Checksum\n",
            "3b81dff756ff: Download complete\n",
            "415755650c07: Verifying Checksum\n",
            "415755650c07: Download complete\n",
            "5cdb61eb416d: Verifying Checksum\n",
            "5cdb61eb416d: Download complete\n",
            "697e3cdf6fdb: Download complete\n",
            "82af7648a68a: Verifying Checksum\n",
            "82af7648a68a: Download complete\n",
            "8d414b25a011: Verifying Checksum\n",
            "8d414b25a011: Download complete\n",
            "1595db7eb9b1: Verifying Checksum\n",
            "1595db7eb9b1: Download complete\n",
            "3e3cfa737f56: Verifying Checksum\n",
            "3e3cfa737f56: Download complete\n",
            "d2d3fcd4b870: Verifying Checksum\n",
            "d2d3fcd4b870: Download complete\n",
            "35f87fd78dc8: Verifying Checksum\n",
            "35f87fd78dc8: Download complete\n",
            "146e266752fc: Verifying Checksum\n",
            "146e266752fc: Download complete\n",
            "57df244389c0: Verifying Checksum\n",
            "57df244389c0: Download complete\n",
            "e8391aa94779: Verifying Checksum\n",
            "e8391aa94779: Download complete\n",
            "e3f8e6af58ed: Verifying Checksum\n",
            "e3f8e6af58ed: Download complete\n",
            "df5590a8898b: Pull complete\n",
            "705bb4cb554e: Pull complete\n",
            "519df5fceacd: Pull complete\n",
            "ccc287cbeddc: Pull complete\n",
            "e3f8e6af58ed: Pull complete\n",
            "aebed27b2d86: Pull complete\n",
            "3b81dff756ff: Pull complete\n",
            "6e4f59a23b58: Pull complete\n",
            "5cdb61eb416d: Pull complete\n",
            "415755650c07: Pull complete\n",
            "82af7648a68a: Pull complete\n",
            "697e3cdf6fdb: Pull complete\n",
            "8d414b25a011: Pull complete\n",
            "3e3cfa737f56: Pull complete\n",
            "1595db7eb9b1: Pull complete\n",
            "d2d3fcd4b870: Pull complete\n",
            "35f87fd78dc8: Pull complete\n",
            "146e266752fc: Pull complete\n",
            "57df244389c0: Pull complete\n",
            "e8391aa94779: Pull complete\n",
            "Digest: sha256:f5770422a8875fe3d677e1bda724eeba332b53b0a348a9cdde854ba7136c66be\n",
            "Status: Downloaded newer image for tiangolo/uvicorn-gunicorn-fastapi:python3.7\n",
            " ---> bc3531b1f244\n",
            "Step 2/4 : COPY ./requirements.txt /requirements.txt\n",
            " ---> 632d5fc3a7a4\n",
            "Step 3/4 : RUN pip install -r /requirements.txt\n",
            " ---> Running in 3f1dd7d85a27\n",
            "Collecting requests==2.25.0\n",
            "  Downloading requests-2.25.0-py2.py3-none-any.whl (61 kB)\n",
            "Collecting uvicorn==0.12.2\n",
            "  Downloading uvicorn-0.12.2-py3-none-any.whl (45 kB)\n",
            "Collecting fastapi==0.61.2\n",
            "  Downloading fastapi-0.61.2-py3-none-any.whl (48 kB)\n",
            "Collecting h5py==2.10.0\n",
            "  Downloading h5py-2.10.0-cp37-cp37m-manylinux1_x86_64.whl (2.9 MB)\n",
            "Collecting scikit-learn==0.23.2\n",
            "  Downloading scikit_learn-0.23.2-cp37-cp37m-manylinux1_x86_64.whl (6.8 MB)\n",
            "Collecting scipy==1.4.1\n",
            "  Downloading scipy-1.4.1-cp37-cp37m-manylinux1_x86_64.whl (26.1 MB)\n",
            "Collecting tensorflow==2.1.0\n",
            "  Downloading tensorflow-2.1.0-cp37-cp37m-manylinux2010_x86_64.whl (421.8 MB)\n",
            "Collecting loguru==0.5.3\n",
            "  Downloading loguru-0.5.3-py3-none-any.whl (57 kB)\n",
            "Collecting gensim==3.6.0\n",
            "  Downloading gensim-3.6.0.tar.gz (23.1 MB)\n",
            "Collecting fsspec==0.8.4\n",
            "  Downloading fsspec-0.8.4-py3-none-any.whl (91 kB)\n",
            "Collecting gcsfs==0.7.1\n",
            "  Downloading gcsfs-0.7.1-py2.py3-none-any.whl (20 kB)\n",
            "Collecting numpy==1.19.5\n",
            "  Downloading numpy-1.19.5-cp37-cp37m-manylinux2010_x86_64.whl (14.8 MB)\n",
            "Collecting urllib3<1.27,>=1.21.1\n",
            "  Downloading urllib3-1.26.10-py2.py3-none-any.whl (139 kB)\n",
            "Collecting chardet<4,>=3.0.2\n",
            "  Downloading chardet-3.0.4-py2.py3-none-any.whl (133 kB)\n",
            "Collecting certifi>=2017.4.17\n",
            "  Downloading certifi-2022.6.15-py3-none-any.whl (160 kB)\n",
            "Collecting idna<3,>=2.5\n",
            "  Downloading idna-2.10-py2.py3-none-any.whl (58 kB)\n",
            "Requirement already satisfied: h11>=0.8 in /usr/local/lib/python3.7/site-packages (from uvicorn==0.12.2->-r /requirements.txt (line 2)) (0.12.0)\n",
            "Requirement already satisfied: typing-extensions in /usr/local/lib/python3.7/site-packages (from uvicorn==0.12.2->-r /requirements.txt (line 2)) (3.10.0.2)\n",
            "Collecting click==7.*\n",
            "  Downloading click-7.1.2-py2.py3-none-any.whl (82 kB)\n",
            "Requirement already satisfied: pydantic<2.0.0,>=1.0.0 in /usr/local/lib/python3.7/site-packages (from fastapi==0.61.2->-r /requirements.txt (line 3)) (1.8.2)\n",
            "Collecting starlette==0.13.6\n",
            "  Downloading starlette-0.13.6-py3-none-any.whl (59 kB)\n",
            "Collecting six\n",
            "  Downloading six-1.16.0-py2.py3-none-any.whl (11 kB)\n",
            "Collecting joblib>=0.11\n",
            "  Downloading joblib-1.1.0-py2.py3-none-any.whl (306 kB)\n",
            "Collecting threadpoolctl>=2.0.0\n",
            "  Downloading threadpoolctl-3.1.0-py3-none-any.whl (14 kB)\n",
            "Collecting protobuf>=3.8.0\n",
            "  Downloading protobuf-4.21.2-cp37-abi3-manylinux2014_x86_64.whl (407 kB)\n",
            "Requirement already satisfied: wheel>=0.26 in /usr/local/lib/python3.7/site-packages (from tensorflow==2.1.0->-r /requirements.txt (line 7)) (0.37.0)\n",
            "Collecting wrapt>=1.11.1\n",
            "  Downloading wrapt-1.14.1-cp37-cp37m-manylinux_2_5_x86_64.manylinux1_x86_64.manylinux_2_17_x86_64.manylinux2014_x86_64.whl (75 kB)\n",
            "Collecting tensorboard<2.2.0,>=2.1.0\n",
            "  Downloading tensorboard-2.1.1-py3-none-any.whl (3.8 MB)\n",
            "Collecting keras-preprocessing>=1.1.0\n",
            "  Downloading Keras_Preprocessing-1.1.2-py2.py3-none-any.whl (42 kB)\n",
            "Collecting google-pasta>=0.1.6\n",
            "  Downloading google_pasta-0.2.0-py3-none-any.whl (57 kB)\n",
            "Collecting opt-einsum>=2.3.2\n",
            "  Downloading opt_einsum-3.3.0-py3-none-any.whl (65 kB)\n",
            "Collecting gast==0.2.2\n",
            "  Downloading gast-0.2.2.tar.gz (10 kB)\n",
            "Collecting grpcio>=1.8.6\n",
            "  Downloading grpcio-1.47.0-cp37-cp37m-manylinux_2_17_x86_64.manylinux2014_x86_64.whl (4.5 MB)\n",
            "Collecting absl-py>=0.7.0\n",
            "  Downloading absl_py-1.1.0-py3-none-any.whl (123 kB)\n",
            "Collecting termcolor>=1.1.0\n",
            "  Downloading termcolor-1.1.0.tar.gz (3.9 kB)\n",
            "Collecting tensorflow-estimator<2.2.0,>=2.1.0rc0\n",
            "  Downloading tensorflow_estimator-2.1.0-py2.py3-none-any.whl (448 kB)\n",
            "Collecting keras-applications>=1.0.8\n",
            "  Downloading Keras_Applications-1.0.8-py3-none-any.whl (50 kB)\n",
            "Collecting astor>=0.6.0\n",
            "  Downloading astor-0.8.1-py2.py3-none-any.whl (27 kB)\n",
            "Collecting smart_open>=1.2.1\n",
            "  Downloading smart_open-6.0.0-py3-none-any.whl (58 kB)\n",
            "Collecting aiohttp\n",
            "  Downloading aiohttp-3.8.1-cp37-cp37m-manylinux_2_5_x86_64.manylinux1_x86_64.manylinux_2_12_x86_64.manylinux2010_x86_64.whl (1.1 MB)\n",
            "Collecting google-auth>=1.2\n",
            "  Downloading google_auth-2.9.0-py2.py3-none-any.whl (167 kB)\n",
            "Collecting decorator\n",
            "  Downloading decorator-5.1.1-py3-none-any.whl (9.1 kB)\n",
            "Collecting google-auth-oauthlib\n",
            "  Downloading google_auth_oauthlib-0.5.2-py2.py3-none-any.whl (19 kB)\n",
            "Collecting rsa<5,>=3.1.4\n",
            "  Downloading rsa-4.8-py3-none-any.whl (39 kB)\n",
            "Collecting pyasn1-modules>=0.2.1\n",
            "  Downloading pyasn1_modules-0.2.8-py2.py3-none-any.whl (155 kB)\n",
            "Collecting cachetools<6.0,>=2.0.0\n",
            "  Downloading cachetools-5.2.0-py3-none-any.whl (9.3 kB)\n",
            "Collecting pyasn1<0.5.0,>=0.4.6\n",
            "  Downloading pyasn1-0.4.8-py2.py3-none-any.whl (77 kB)\n",
            "Collecting google-auth>=1.2\n",
            "  Downloading google_auth-1.35.0-py2.py3-none-any.whl (152 kB)\n",
            "Collecting google-auth-oauthlib\n",
            "  Downloading google_auth_oauthlib-0.4.6-py2.py3-none-any.whl (18 kB)\n",
            "Collecting werkzeug>=0.11.15\n",
            "  Downloading Werkzeug-2.1.2-py3-none-any.whl (224 kB)\n",
            "Collecting markdown>=2.6.8\n",
            "  Downloading Markdown-3.3.7-py3-none-any.whl (97 kB)\n",
            "Requirement already satisfied: setuptools>=41.0.0 in /usr/local/lib/python3.7/site-packages (from tensorboard<2.2.0,>=2.1.0->tensorflow==2.1.0->-r /requirements.txt (line 7)) (57.5.0)\n",
            "Collecting cachetools<6.0,>=2.0.0\n",
            "  Downloading cachetools-4.2.4-py3-none-any.whl (10 kB)\n",
            "Collecting requests-oauthlib>=0.7.0\n",
            "  Downloading requests_oauthlib-1.3.1-py2.py3-none-any.whl (23 kB)\n",
            "Requirement already satisfied: importlib-metadata>=4.4 in /usr/local/lib/python3.7/site-packages (from markdown>=2.6.8->tensorboard<2.2.0,>=2.1.0->tensorflow==2.1.0->-r /requirements.txt (line 7)) (4.8.1)\n",
            "Requirement already satisfied: zipp>=0.5 in /usr/local/lib/python3.7/site-packages (from importlib-metadata>=4.4->markdown>=2.6.8->tensorboard<2.2.0,>=2.1.0->tensorflow==2.1.0->-r /requirements.txt (line 7)) (3.6.0)\n",
            "Collecting oauthlib>=3.0.0\n",
            "  Downloading oauthlib-3.2.0-py3-none-any.whl (151 kB)\n",
            "Collecting aiosignal>=1.1.2\n",
            "  Downloading aiosignal-1.2.0-py3-none-any.whl (8.2 kB)\n",
            "Collecting attrs>=17.3.0\n",
            "  Downloading attrs-21.4.0-py2.py3-none-any.whl (60 kB)\n",
            "Collecting charset-normalizer<3.0,>=2.0\n",
            "  Downloading charset_normalizer-2.1.0-py3-none-any.whl (39 kB)\n",
            "Collecting asynctest==0.13.0\n",
            "  Downloading asynctest-0.13.0-py3-none-any.whl (26 kB)\n",
            "Collecting yarl<2.0,>=1.0\n",
            "  Downloading yarl-1.7.2-cp37-cp37m-manylinux_2_5_x86_64.manylinux1_x86_64.manylinux_2_12_x86_64.manylinux2010_x86_64.whl (271 kB)\n",
            "Collecting multidict<7.0,>=4.5\n",
            "  Downloading multidict-6.0.2-cp37-cp37m-manylinux_2_17_x86_64.manylinux2014_x86_64.whl (94 kB)\n",
            "Collecting async-timeout<5.0,>=4.0.0a3\n",
            "  Downloading async_timeout-4.0.2-py3-none-any.whl (5.8 kB)\n",
            "Collecting frozenlist>=1.1.1\n",
            "  Downloading frozenlist-1.3.0-cp37-cp37m-manylinux_2_5_x86_64.manylinux1_x86_64.manylinux_2_17_x86_64.manylinux2014_x86_64.whl (144 kB)\n",
            "Building wheels for collected packages: gensim, gast, termcolor\n",
            "  Building wheel for gensim (setup.py): started\n",
            "  Building wheel for gensim (setup.py): finished with status 'done'\n",
            "  Created wheel for gensim: filename=gensim-3.6.0-cp37-cp37m-linux_x86_64.whl size=24602110 sha256=04de1ebcb7cc49620b1052cf98ec7cadc7617ef911120ca87b2ec99e2db63596\n",
            "  Stored in directory: /root/.cache/pip/wheels/53/c8/f9/afb722099bdb5d73e5807019ce1512fd065502ccc15ea2b5bd\n",
            "  Building wheel for gast (setup.py): started\n",
            "  Building wheel for gast (setup.py): finished with status 'done'\n",
            "  Created wheel for gast: filename=gast-0.2.2-py3-none-any.whl size=7554 sha256=d8fd01dbbd9c62c9a3fd353c10d3690e880651dcbf29eede09a8041ad8cb0b71\n",
            "  Stored in directory: /root/.cache/pip/wheels/21/7f/02/420f32a803f7d0967b48dd823da3f558c5166991bfd204eef3\n",
            "  Building wheel for termcolor (setup.py): started\n",
            "  Building wheel for termcolor (setup.py): finished with status 'done'\n",
            "  Created wheel for termcolor: filename=termcolor-1.1.0-py3-none-any.whl size=4847 sha256=c91528874f541bc0710c58c08ca9d6fcfd7922f6e9b4e9bab019e581e151f0fd\n",
            "  Stored in directory: /root/.cache/pip/wheels/3f/e3/ec/8a8336ff196023622fbcb36de0c5a5c218cbb24111d1d4c7f2\n",
            "Successfully built gensim gast termcolor\n",
            "Installing collected packages: urllib3, pyasn1, idna, chardet, certifi, six, rsa, requests, pyasn1-modules, oauthlib, cachetools, requests-oauthlib, numpy, multidict, google-auth, frozenlist, yarl, werkzeug, protobuf, markdown, h5py, grpcio, google-auth-oauthlib, charset-normalizer, attrs, asynctest, async-timeout, aiosignal, absl-py, wrapt, threadpoolctl, termcolor, tensorflow-estimator, tensorboard, starlette, smart-open, scipy, opt-einsum, keras-preprocessing, keras-applications, joblib, google-pasta, gast, fsspec, decorator, click, astor, aiohttp, uvicorn, tensorflow, scikit-learn, loguru, gensim, gcsfs, fastapi\n",
            "  Attempting uninstall: starlette\n",
            "    Found existing installation: starlette 0.14.2\n",
            "    Uninstalling starlette-0.14.2:\n",
            "      Successfully uninstalled starlette-0.14.2\n",
            "  Attempting uninstall: click\n",
            "    Found existing installation: click 8.0.1\n",
            "    Uninstalling click-8.0.1:\n",
            "      Successfully uninstalled click-8.0.1\n",
            "  Attempting uninstall: uvicorn\n",
            "    Found existing installation: uvicorn 0.15.0\n",
            "    Uninstalling uvicorn-0.15.0:\n",
            "      Successfully uninstalled uvicorn-0.15.0\n",
            "  Attempting uninstall: fastapi\n",
            "    Found existing installation: fastapi 0.68.1\n",
            "    Uninstalling fastapi-0.68.1:\n",
            "      Successfully uninstalled fastapi-0.68.1\n",
            "Successfully installed absl-py-1.1.0 aiohttp-3.8.1 aiosignal-1.2.0 astor-0.8.1 async-timeout-4.0.2 asynctest-0.13.0 attrs-21.4.0 cachetools-4.2.4 certifi-2022.6.15 chardet-3.0.4 charset-normalizer-2.1.0 click-7.1.2 decorator-5.1.1 fastapi-0.61.2 frozenlist-1.3.0 fsspec-0.8.4 gast-0.2.2 gcsfs-0.7.1 gensim-3.6.0 google-auth-1.35.0 google-auth-oauthlib-0.4.6 google-pasta-0.2.0 grpcio-1.47.0 h5py-2.10.0 idna-2.10 joblib-1.1.0 keras-applications-1.0.8 keras-preprocessing-1.1.2 loguru-0.5.3 markdown-3.3.7 multidict-6.0.2 numpy-1.19.5 oauthlib-3.2.0 opt-einsum-3.3.0 protobuf-4.21.2 pyasn1-0.4.8 pyasn1-modules-0.2.8 requests-2.25.0 requests-oauthlib-1.3.1 rsa-4.8 scikit-learn-0.23.2 scipy-1.4.1 six-1.16.0 smart-open-6.0.0 starlette-0.13.6 tensorboard-2.1.1 tensorflow-2.1.0 tensorflow-estimator-2.1.0 termcolor-1.1.0 threadpoolctl-3.1.0 urllib3-1.26.10 uvicorn-0.12.2 werkzeug-2.1.2 wrapt-1.14.1 yarl-1.7.2\n",
            "\u001b[91mWARNING: Running pip as the 'root' user can result in broken permissions and conflicting behaviour with the system package manager. It is recommended to use a virtual environment instead: https://pip.pypa.io/warnings/venv\n",
            "\u001b[0m\u001b[91mWARNING: You are using pip version 21.2.4; however, version 22.1.2 is available.\n",
            "You should consider upgrading via the '/usr/local/bin/python -m pip install --upgrade pip' command.\n",
            "\u001b[0mRemoving intermediate container 3f1dd7d85a27\n",
            " ---> b2f6df0bc74d\n",
            "Step 4/4 : COPY ./app /app/app\n",
            " ---> 1e7cb2ff80bd\n",
            "Successfully built 1e7cb2ff80bd\n",
            "Successfully tagged gcr.io/kc-mel-practica-da/troll-detection-online-service:latest\n",
            "PUSH\n",
            "Pushing gcr.io/kc-mel-practica-da/troll-detection-online-service\n",
            "The push refers to repository [gcr.io/kc-mel-practica-da/troll-detection-online-service]\n",
            "d82a7d67b942: Preparing\n",
            "38af4eaf9828: Preparing\n",
            "3c9917d18fcb: Preparing\n",
            "574be7dd3a19: Preparing\n",
            "4a24608ea27b: Preparing\n",
            "c660563b938b: Preparing\n",
            "e313cca5ff4a: Preparing\n",
            "ad6638039b02: Preparing\n",
            "4c503f7b7cec: Preparing\n",
            "49022fdb47b6: Preparing\n",
            "f4cc5099892d: Preparing\n",
            "471ef6255d6e: Preparing\n",
            "0f8cd2835d79: Preparing\n",
            "0616239ad62a: Preparing\n",
            "4eb436881a0f: Preparing\n",
            "7fe8548565b4: Preparing\n",
            "8364a493536b: Preparing\n",
            "c1792902851c: Preparing\n",
            "c272c95c3fb0: Preparing\n",
            "3054497613e6: Preparing\n",
            "d35dc7f4c79e: Preparing\n",
            "dabfe5b2ea81: Preparing\n",
            "5e6a409f30b6: Preparing\n",
            "c660563b938b: Waiting\n",
            "e313cca5ff4a: Waiting\n",
            "ad6638039b02: Waiting\n",
            "4c503f7b7cec: Waiting\n",
            "49022fdb47b6: Waiting\n",
            "f4cc5099892d: Waiting\n",
            "471ef6255d6e: Waiting\n",
            "0f8cd2835d79: Waiting\n",
            "0616239ad62a: Waiting\n",
            "4eb436881a0f: Waiting\n",
            "7fe8548565b4: Waiting\n",
            "8364a493536b: Waiting\n",
            "c1792902851c: Waiting\n",
            "c272c95c3fb0: Waiting\n",
            "3054497613e6: Waiting\n",
            "d35dc7f4c79e: Waiting\n",
            "dabfe5b2ea81: Waiting\n",
            "5e6a409f30b6: Waiting\n",
            "d82a7d67b942: Pushed\n",
            "3c9917d18fcb: Pushed\n",
            "574be7dd3a19: Pushed\n",
            "ad6638039b02: Pushed\n",
            "c660563b938b: Pushed\n",
            "e313cca5ff4a: Pushed\n",
            "4a24608ea27b: Pushed\n",
            "f4cc5099892d: Pushed\n",
            "49022fdb47b6: Pushed\n",
            "4c503f7b7cec: Pushed\n",
            "471ef6255d6e: Pushed\n",
            "0616239ad62a: Pushed\n",
            "7fe8548565b4: Pushed\n",
            "c1792902851c: Layer already exists\n",
            "c272c95c3fb0: Layer already exists\n",
            "3054497613e6: Layer already exists\n",
            "d35dc7f4c79e: Layer already exists\n",
            "4eb436881a0f: Pushed\n",
            "dabfe5b2ea81: Layer already exists\n",
            "5e6a409f30b6: Layer already exists\n",
            "0f8cd2835d79: Pushed\n",
            "8364a493536b: Pushed\n",
            "38af4eaf9828: Pushed\n",
            "latest: digest: sha256:c539a5398ac7fc2e8cfd39b7c1f6fe6738500c858b3c1d10e4844224a00c295a size: 5134\n",
            "DONE\n",
            "\n",
            "ID                                    CREATE_TIME                DURATION  SOURCE                                                                                            IMAGES                                                              STATUS\n",
            "e92615aa-a4be-4847-bfc8-beaffc793e7a  2022-07-08T23:11:51+00:00  4M21S     gs://kc-mel-practica-da_cloudbuild/source/1657321909.396535-962289dd9a66434d909cd06807389866.tgz  gcr.io/kc-mel-practica-da/troll-detection-online-service (+1 more)  SUCCESS\n"
          ]
        }
      ]
    },
    {
      "cell_type": "markdown",
      "metadata": {
        "id": "aYVptQ0WEEd-"
      },
      "source": [
        "Desplegaremos la imagen Docker generada en el Container Registry en el servicio de Cloud Run. Después, validaremos que las inferencias funcionan en GCP usando el comando mostrado a continuación:"
      ]
    },
    {
      "cell_type": "code",
      "metadata": {
        "id": "KC0honui-W23"
      },
      "source": [
        "! curl -X POST \"https://troll-detection-service-g2v7skqfeq-uc.a.run.app/api/model/predict\" -H  \"accept: application/json\" -H  \"Content-Type: application/json\" -d \"{\\\"text\\\":\\\"i hate you\\\"}\""
      ],
      "execution_count": null,
      "outputs": []
    },
    {
      "cell_type": "markdown",
      "metadata": {
        "id": "ZvBWPoGGKwuJ"
      },
      "source": [
        "# Detección de Trolls en Twitch en Streaming\n",
        "\n",
        "En esta última parte de la práctica se realizará un pipeline de inferencia en tiempo real de un chat de Twitch alcualmente en vivo. Para ello, usaremos mi canal de Twitch `https://www.twitch.tv/franalgaba` donde tengo un bot deplegado poniendo mensajes troll y no troll de forma aleatoria del dataset que hemos usado en la primera parte.\n",
        "\n",
        "Para acceder al chat de Twitch os proporciono el conector correspondiente que será desplegado como Cloud Function como hicimos en clase y usando mis credenciales recogerá los mensajes del chat y los enviará a un topic de Pub/Sub en GCP. Después, desarrollarás un job en streaming de Dataflow con el que leerás esos mensajes de Pub/sub, los mandarás a tu microservicio de inferencia para que haga las predicciones y enviarás los resultados a un nuevo tópico de Pub/Sub.\n",
        "\n",
        "A continuación os dejo un diagrama con la arquitectura que se va a desarrollar:\n",
        "\n",
        "![streaming_diagram](https://drive.google.com/uc?export=view&id=1TEBPPc9ZF09IM5iGq9FwGAx9PVzAYNPg)"
      ]
    },
    {
      "cell_type": "markdown",
      "metadata": {
        "id": "Yw3oY8n5GjuU"
      },
      "source": [
        "Primero, creamos el publisher que será el encargado de recoger los mensajes de Twitch y enviarlos a Pub/Sub. Esto os lo doy yo desarrollado, sólo tendréis que desplegarlo en una Cloud Function."
      ]
    },
    {
      "cell_type": "code",
      "metadata": {
        "id": "HH8WcRKrKwKy"
      },
      "source": [
        "%mkdir -p /content/streaming/publisher"
      ],
      "execution_count": 13,
      "outputs": []
    },
    {
      "cell_type": "code",
      "metadata": {
        "id": "75whqxX7K54B",
        "colab": {
          "base_uri": "https://localhost:8080/"
        },
        "outputId": "5c6c52bb-7dee-4598-dd26-861d740c8e61"
      },
      "source": [
        "# Execute after restart\n",
        "%cd /content/streaming/publisher"
      ],
      "execution_count": 14,
      "outputs": [
        {
          "output_type": "stream",
          "name": "stdout",
          "text": [
            "/content/streaming/publisher\n"
          ]
        }
      ]
    },
    {
      "cell_type": "code",
      "metadata": {
        "id": "jyOecviAK8QO",
        "colab": {
          "base_uri": "https://localhost:8080/"
        },
        "outputId": "097f4e6e-db87-4edd-b029-c12503838836"
      },
      "source": [
        "%%writefile requirements.txt\n",
        "\n",
        "twitchio==1.2.3\n",
        "loguru==0.5.3\n",
        "google-cloud-pubsub==2.1.0"
      ],
      "execution_count": 15,
      "outputs": [
        {
          "output_type": "stream",
          "name": "stdout",
          "text": [
            "Writing requirements.txt\n"
          ]
        }
      ]
    },
    {
      "cell_type": "code",
      "metadata": {
        "id": "z-pnzR-jMkZ4",
        "colab": {
          "base_uri": "https://localhost:8080/"
        },
        "outputId": "c23be299-9ab3-4341-e3c4-4f0a75fcdf55"
      },
      "source": [
        "%%writefile main.py\n",
        "\n",
        "import os  # for importing env vars for the bot to use\n",
        "import sys\n",
        "import json\n",
        "import time\n",
        "\n",
        "from twitchio.ext import commands\n",
        "from google.cloud import pubsub_v1\n",
        "from loguru import logger\n",
        "\n",
        "PROJECT_ID = os.getenv(\"PROJECT_ID\")\n",
        "TOPIC_NAME = os.getenv(\"TOPIC_NAME\")\n",
        "\n",
        "TOPIC_PATH = f\"projects/{PROJECT_ID}/topics/{TOPIC_NAME}\"\n",
        "\n",
        "publisher = pubsub_v1.PublisherClient()\n",
        "\n",
        "\n",
        "class Bot(commands.Bot):\n",
        "\n",
        "    def __init__(self, irc_token='...', client_id='...', nick='...', prefix=\"!\", initial_channels=['...'], debug=True):\n",
        "        super().__init__(irc_token=irc_token, client_id=client_id, nick=nick, prefix='!',\n",
        "                         initial_channels=initial_channels)\n",
        "        self.debug = debug\n",
        "\n",
        "    # Events don't need decorators when subclassed\n",
        "    async def event_ready(self):\n",
        "        logger.info('Ready')\n",
        "\n",
        "    async def event_message(self, message):\n",
        "        logger.info(message.content)\n",
        "        publisher.publish(TOPIC_PATH, str.encode(message.content))\n",
        "\n",
        "\n",
        "def main(request):\n",
        "\n",
        "    topic_name = f\"projects/{PROJECT_ID}/topics/{TOPIC_NAME}\"\n",
        "    # publisher.create_topic(topic_name)\n",
        "\n",
        "    request_json = request.get_json(silent=True)\n",
        "\n",
        "    logger.info(\"Starting listener...\")\n",
        "    if \"debug\" in request_json and isinstance(request_json[\"debug\"], bool):\n",
        "        logger.info(f\"Debug mode: {request_json['debug']}\")\n",
        "        bot = Bot(\n",
        "          # set up the bot\n",
        "          irc_token=\"oauth:xl5cpf8qe8tl1d03dppymchi6r04iz\",\n",
        "          client_id=\"ciliqxi534iwg4pfqj7swl1jmkt23y\",\n",
        "          nick=\"franalgaba\",\n",
        "          prefix=\"!\",\n",
        "          initial_channels=[\"franalgaba\"],\n",
        "          debug=request_json['debug'])\n",
        "    else:\n",
        "        bot = Bot(\n",
        "          # set up the bot\n",
        "          irc_token=\"oauth:xl5cpf8qe8tl1d03dppymchi6r04iz\",\n",
        "          client_id=\"ciliqxi534iwg4pfqj7swl1jmkt23y\",\n",
        "          nick=\"franalgaba\",\n",
        "          prefix=\"!\",\n",
        "          initial_channels=[\"franalgaba\"])\n",
        "\n",
        "    bot.run()"
      ],
      "execution_count": 16,
      "outputs": [
        {
          "output_type": "stream",
          "name": "stdout",
          "text": [
            "Writing main.py\n"
          ]
        }
      ]
    },
    {
      "cell_type": "code",
      "metadata": {
        "id": "FDrQjJbsVO-4",
        "colab": {
          "base_uri": "https://localhost:8080/"
        },
        "outputId": "48a16f09-c0ab-439d-8c48-24cd3bf5ced5"
      },
      "source": [
        "# In case user service error...\n",
        "! gcloud iam service-accounts add-iam-policy-binding kc-mel-practica-da@appspot.gserviceaccount.com --member=user:<mail> --role=roles/iam.serviceAccountUser"
      ],
      "execution_count": 18,
      "outputs": [
        {
          "output_type": "stream",
          "name": "stdout",
          "text": [
            "/bin/bash: mail: No such file or directory\n"
          ]
        }
      ]
    },
    {
      "cell_type": "markdown",
      "metadata": {
        "id": "7x_BX3FCG3mD"
      },
      "source": [
        "Para lanzar vuestra Cloud Function, que recoja y mande mensajes solo tenéis que ejecutar el comando siguiente (haced los pasos vistos en clase para desplegar el servicio):"
      ]
    },
    {
      "cell_type": "code",
      "metadata": {
        "id": "PcemNpnsKxFy"
      },
      "source": [
        "! curl -X POST https://europe-west1-kc-mel-practica-da.cloudfunctions.net/twitch-published -H \"Content-Type:application/json\"  -d '{\"debug\": false}'"
      ],
      "execution_count": 22,
      "outputs": []
    },
    {
      "cell_type": "markdown",
      "metadata": {
        "id": "Yr3SmFrUHCvN"
      },
      "source": [
        "## Entregable 1 (3 puntos)\n",
        "\n",
        "En este entregable desarrollarás un pipeline de inferencia en streaming usando Apache Beam para ejecutar en Dataflow un job en streaming que llamará a vuestro microservicio para realizar inferencias."
      ]
    },
    {
      "cell_type": "code",
      "metadata": {
        "id": "IwlDH0KFbn1q"
      },
      "source": [
        "%mkdir /content/streaming/subscriber"
      ],
      "execution_count": 23,
      "outputs": []
    },
    {
      "cell_type": "code",
      "metadata": {
        "id": "DLNtrkgybtHE",
        "colab": {
          "base_uri": "https://localhost:8080/"
        },
        "outputId": "1e5f489b-e257-4f21-95e3-6abe228ababf"
      },
      "source": [
        "%cd /content/streaming/subscriber"
      ],
      "execution_count": 24,
      "outputs": [
        {
          "output_type": "stream",
          "name": "stdout",
          "text": [
            "/content/streaming/subscriber\n"
          ]
        }
      ]
    },
    {
      "cell_type": "code",
      "metadata": {
        "id": "XtBrcF2zbz04",
        "colab": {
          "base_uri": "https://localhost:8080/"
        },
        "outputId": "4a52946c-b846-4700-f4ac-d3309cfd8c82"
      },
      "source": [
        "%%writefile requirements.txt\n",
        "\n",
        "apache-beam[gcp]==2.24.0\n",
        "fsspec==0.8.4\n",
        "gcsfs==0.7.1\n",
        "loguru==0.5.3"
      ],
      "execution_count": 25,
      "outputs": [
        {
          "output_type": "stream",
          "name": "stdout",
          "text": [
            "Writing requirements.txt\n"
          ]
        }
      ]
    },
    {
      "cell_type": "code",
      "metadata": {
        "id": "6RN9KNMob1jY",
        "colab": {
          "base_uri": "https://localhost:8080/"
        },
        "outputId": "47000723-e69c-4346-8a4a-ac67cc77e0e9"
      },
      "source": [
        "! pip install -r requirements.txt"
      ],
      "execution_count": 26,
      "outputs": [
        {
          "output_type": "stream",
          "name": "stdout",
          "text": [
            "Looking in indexes: https://pypi.org/simple, https://us-python.pkg.dev/colab-wheels/public/simple/\n",
            "Requirement already satisfied: apache-beam[gcp]==2.24.0 in /usr/local/lib/python3.7/dist-packages (from -r requirements.txt (line 2)) (2.24.0)\n",
            "Requirement already satisfied: fsspec==0.8.4 in /usr/local/lib/python3.7/dist-packages (from -r requirements.txt (line 3)) (0.8.4)\n",
            "Requirement already satisfied: gcsfs==0.7.1 in /usr/local/lib/python3.7/dist-packages (from -r requirements.txt (line 4)) (0.7.1)\n",
            "Requirement already satisfied: loguru==0.5.3 in /usr/local/lib/python3.7/dist-packages (from -r requirements.txt (line 5)) (0.5.3)\n",
            "Requirement already satisfied: aiohttp in /usr/local/lib/python3.7/dist-packages (from gcsfs==0.7.1->-r requirements.txt (line 4)) (3.8.1)\n",
            "Requirement already satisfied: requests in /usr/local/lib/python3.7/dist-packages (from gcsfs==0.7.1->-r requirements.txt (line 4)) (2.25.0)\n",
            "Requirement already satisfied: google-auth>=1.2 in /usr/local/lib/python3.7/dist-packages (from gcsfs==0.7.1->-r requirements.txt (line 4)) (1.35.0)\n",
            "Requirement already satisfied: decorator in /usr/local/lib/python3.7/dist-packages (from gcsfs==0.7.1->-r requirements.txt (line 4)) (4.4.2)\n",
            "Requirement already satisfied: google-auth-oauthlib in /usr/local/lib/python3.7/dist-packages (from gcsfs==0.7.1->-r requirements.txt (line 4)) (0.4.6)\n",
            "Requirement already satisfied: avro-python3!=1.9.2,<1.10.0,>=1.8.1 in /usr/local/lib/python3.7/dist-packages (from apache-beam[gcp]==2.24.0->-r requirements.txt (line 2)) (1.9.2.1)\n",
            "Requirement already satisfied: mock<3.0.0,>=1.0.1 in /usr/local/lib/python3.7/dist-packages (from apache-beam[gcp]==2.24.0->-r requirements.txt (line 2)) (2.0.0)\n",
            "Requirement already satisfied: pyarrow<0.18.0,>=0.15.1 in /usr/local/lib/python3.7/dist-packages (from apache-beam[gcp]==2.24.0->-r requirements.txt (line 2)) (0.17.1)\n",
            "Requirement already satisfied: dill<0.3.2,>=0.3.1.1 in /usr/local/lib/python3.7/dist-packages (from apache-beam[gcp]==2.24.0->-r requirements.txt (line 2)) (0.3.1.1)\n",
            "Requirement already satisfied: future<1.0.0,>=0.18.2 in /usr/local/lib/python3.7/dist-packages (from apache-beam[gcp]==2.24.0->-r requirements.txt (line 2)) (0.18.2)\n",
            "Requirement already satisfied: numpy<2,>=1.14.3 in /usr/local/lib/python3.7/dist-packages (from apache-beam[gcp]==2.24.0->-r requirements.txt (line 2)) (1.19.5)\n",
            "Requirement already satisfied: fastavro<0.24,>=0.21.4 in /usr/local/lib/python3.7/dist-packages (from apache-beam[gcp]==2.24.0->-r requirements.txt (line 2)) (0.23.6)\n",
            "Requirement already satisfied: pydot<2,>=1.2.0 in /usr/local/lib/python3.7/dist-packages (from apache-beam[gcp]==2.24.0->-r requirements.txt (line 2)) (1.3.0)\n",
            "Requirement already satisfied: httplib2<0.18.0,>=0.8 in /usr/local/lib/python3.7/dist-packages (from apache-beam[gcp]==2.24.0->-r requirements.txt (line 2)) (0.17.4)\n",
            "Requirement already satisfied: python-dateutil<3,>=2.8.0 in /usr/local/lib/python3.7/dist-packages (from apache-beam[gcp]==2.24.0->-r requirements.txt (line 2)) (2.8.2)\n",
            "Requirement already satisfied: hdfs<3.0.0,>=2.1.0 in /usr/local/lib/python3.7/dist-packages (from apache-beam[gcp]==2.24.0->-r requirements.txt (line 2)) (2.7.0)\n",
            "Requirement already satisfied: oauth2client<4,>=2.0.1 in /usr/local/lib/python3.7/dist-packages (from apache-beam[gcp]==2.24.0->-r requirements.txt (line 2)) (3.0.0)\n",
            "Requirement already satisfied: pymongo<4.0.0,>=3.8.0 in /usr/local/lib/python3.7/dist-packages (from apache-beam[gcp]==2.24.0->-r requirements.txt (line 2)) (3.12.3)\n",
            "Requirement already satisfied: crcmod<2.0,>=1.7 in /usr/local/lib/python3.7/dist-packages (from apache-beam[gcp]==2.24.0->-r requirements.txt (line 2)) (1.7)\n",
            "Requirement already satisfied: grpcio<2,>=1.29.0 in /usr/local/lib/python3.7/dist-packages (from apache-beam[gcp]==2.24.0->-r requirements.txt (line 2)) (1.46.3)\n",
            "Requirement already satisfied: typing-extensions<3.8.0,>=3.7.0 in /usr/local/lib/python3.7/dist-packages (from apache-beam[gcp]==2.24.0->-r requirements.txt (line 2)) (3.7.4.3)\n",
            "Requirement already satisfied: pytz>=2018.3 in /usr/local/lib/python3.7/dist-packages (from apache-beam[gcp]==2.24.0->-r requirements.txt (line 2)) (2022.1)\n",
            "Requirement already satisfied: protobuf<4,>=3.12.2 in /usr/local/lib/python3.7/dist-packages (from apache-beam[gcp]==2.24.0->-r requirements.txt (line 2)) (3.17.3)\n",
            "Requirement already satisfied: google-cloud-pubsub<2,>=0.39.0 in /usr/local/lib/python3.7/dist-packages (from apache-beam[gcp]==2.24.0->-r requirements.txt (line 2)) (1.7.2)\n",
            "Requirement already satisfied: google-cloud-dlp<2,>=0.12.0 in /usr/local/lib/python3.7/dist-packages (from apache-beam[gcp]==2.24.0->-r requirements.txt (line 2)) (1.0.2)\n",
            "Requirement already satisfied: grpcio-gcp<1,>=0.2.2 in /usr/local/lib/python3.7/dist-packages (from apache-beam[gcp]==2.24.0->-r requirements.txt (line 2)) (0.2.2)\n",
            "Requirement already satisfied: google-cloud-bigtable<2,>=0.31.1 in /usr/local/lib/python3.7/dist-packages (from apache-beam[gcp]==2.24.0->-r requirements.txt (line 2)) (1.7.2)\n",
            "Requirement already satisfied: cachetools<4,>=3.1.0 in /usr/local/lib/python3.7/dist-packages (from apache-beam[gcp]==2.24.0->-r requirements.txt (line 2)) (3.1.1)\n",
            "Requirement already satisfied: google-cloud-core<2,>=0.28.1 in /usr/local/lib/python3.7/dist-packages (from apache-beam[gcp]==2.24.0->-r requirements.txt (line 2)) (1.7.2)\n",
            "Requirement already satisfied: google-cloud-language<2,>=1.3.0 in /usr/local/lib/python3.7/dist-packages (from apache-beam[gcp]==2.24.0->-r requirements.txt (line 2)) (1.3.2)\n",
            "Requirement already satisfied: google-cloud-datastore<2,>=1.7.1 in /usr/local/lib/python3.7/dist-packages (from apache-beam[gcp]==2.24.0->-r requirements.txt (line 2)) (1.8.0)\n",
            "Requirement already satisfied: google-cloud-spanner<2,>=1.13.0 in /usr/local/lib/python3.7/dist-packages (from apache-beam[gcp]==2.24.0->-r requirements.txt (line 2)) (1.19.3)\n",
            "Requirement already satisfied: google-cloud-bigquery<2,>=1.6.0 in /usr/local/lib/python3.7/dist-packages (from apache-beam[gcp]==2.24.0->-r requirements.txt (line 2)) (1.21.0)\n",
            "Requirement already satisfied: google-cloud-vision<2,>=0.38.0 in /usr/local/lib/python3.7/dist-packages (from apache-beam[gcp]==2.24.0->-r requirements.txt (line 2)) (1.0.2)\n",
            "Requirement already satisfied: google-cloud-videointelligence<2,>=1.8.0 in /usr/local/lib/python3.7/dist-packages (from apache-beam[gcp]==2.24.0->-r requirements.txt (line 2)) (1.16.3)\n",
            "Requirement already satisfied: google-apitools<0.5.32,>=0.5.31 in /usr/local/lib/python3.7/dist-packages (from apache-beam[gcp]==2.24.0->-r requirements.txt (line 2)) (0.5.31)\n",
            "Requirement already satisfied: six>=1.12.0 in /usr/local/lib/python3.7/dist-packages (from google-apitools<0.5.32,>=0.5.31->apache-beam[gcp]==2.24.0->-r requirements.txt (line 2)) (1.15.0)\n",
            "Requirement already satisfied: fasteners>=0.14 in /usr/local/lib/python3.7/dist-packages (from google-apitools<0.5.32,>=0.5.31->apache-beam[gcp]==2.24.0->-r requirements.txt (line 2)) (0.17.3)\n",
            "Requirement already satisfied: rsa<5,>=3.1.4 in /usr/local/lib/python3.7/dist-packages (from google-auth>=1.2->gcsfs==0.7.1->-r requirements.txt (line 4)) (4.8)\n",
            "Requirement already satisfied: pyasn1-modules>=0.2.1 in /usr/local/lib/python3.7/dist-packages (from google-auth>=1.2->gcsfs==0.7.1->-r requirements.txt (line 4)) (0.2.8)\n",
            "Requirement already satisfied: setuptools>=40.3.0 in /usr/local/lib/python3.7/dist-packages (from google-auth>=1.2->gcsfs==0.7.1->-r requirements.txt (line 4)) (57.4.0)\n",
            "Requirement already satisfied: google-resumable-media!=0.4.0,<0.5.0dev,>=0.3.1 in /usr/local/lib/python3.7/dist-packages (from google-cloud-bigquery<2,>=1.6.0->apache-beam[gcp]==2.24.0->-r requirements.txt (line 2)) (0.4.1)\n",
            "Requirement already satisfied: google-api-core[grpc]!=2.0.*,!=2.1.*,!=2.2.*,!=2.3.0,<3.0.0dev,>=1.31.5 in /usr/local/lib/python3.7/dist-packages (from google-cloud-bigtable<2,>=0.31.1->apache-beam[gcp]==2.24.0->-r requirements.txt (line 2)) (1.31.6)\n",
            "Requirement already satisfied: grpc-google-iam-v1<0.13dev,>=0.12.3 in /usr/local/lib/python3.7/dist-packages (from google-cloud-bigtable<2,>=0.31.1->apache-beam[gcp]==2.24.0->-r requirements.txt (line 2)) (0.12.4)\n",
            "Requirement already satisfied: googleapis-common-protos<2.0dev,>=1.6.0 in /usr/local/lib/python3.7/dist-packages (from google-api-core[grpc]!=2.0.*,!=2.1.*,!=2.2.*,!=2.3.0,<3.0.0dev,>=1.31.5->google-cloud-bigtable<2,>=0.31.1->apache-beam[gcp]==2.24.0->-r requirements.txt (line 2)) (1.56.2)\n",
            "Requirement already satisfied: packaging>=14.3 in /usr/local/lib/python3.7/dist-packages (from google-api-core[grpc]!=2.0.*,!=2.1.*,!=2.2.*,!=2.3.0,<3.0.0dev,>=1.31.5->google-cloud-bigtable<2,>=0.31.1->apache-beam[gcp]==2.24.0->-r requirements.txt (line 2)) (21.3)\n",
            "Requirement already satisfied: docopt in /usr/local/lib/python3.7/dist-packages (from hdfs<3.0.0,>=2.1.0->apache-beam[gcp]==2.24.0->-r requirements.txt (line 2)) (0.6.2)\n",
            "Requirement already satisfied: pbr>=0.11 in /usr/local/lib/python3.7/dist-packages (from mock<3.0.0,>=1.0.1->apache-beam[gcp]==2.24.0->-r requirements.txt (line 2)) (5.9.0)\n",
            "Requirement already satisfied: pyasn1>=0.1.7 in /usr/local/lib/python3.7/dist-packages (from oauth2client<4,>=2.0.1->apache-beam[gcp]==2.24.0->-r requirements.txt (line 2)) (0.4.8)\n",
            "Requirement already satisfied: pyparsing!=3.0.5,>=2.0.2 in /usr/local/lib/python3.7/dist-packages (from packaging>=14.3->google-api-core[grpc]!=2.0.*,!=2.1.*,!=2.2.*,!=2.3.0,<3.0.0dev,>=1.31.5->google-cloud-bigtable<2,>=0.31.1->apache-beam[gcp]==2.24.0->-r requirements.txt (line 2)) (3.0.9)\n",
            "Requirement already satisfied: certifi>=2017.4.17 in /usr/local/lib/python3.7/dist-packages (from requests->gcsfs==0.7.1->-r requirements.txt (line 4)) (2022.6.15)\n",
            "Requirement already satisfied: idna<3,>=2.5 in /usr/local/lib/python3.7/dist-packages (from requests->gcsfs==0.7.1->-r requirements.txt (line 4)) (2.10)\n",
            "Requirement already satisfied: chardet<4,>=3.0.2 in /usr/local/lib/python3.7/dist-packages (from requests->gcsfs==0.7.1->-r requirements.txt (line 4)) (3.0.4)\n",
            "Requirement already satisfied: urllib3<1.27,>=1.21.1 in /usr/local/lib/python3.7/dist-packages (from requests->gcsfs==0.7.1->-r requirements.txt (line 4)) (1.24.3)\n",
            "Requirement already satisfied: charset-normalizer<3.0,>=2.0 in /usr/local/lib/python3.7/dist-packages (from aiohttp->gcsfs==0.7.1->-r requirements.txt (line 4)) (2.1.0)\n",
            "Requirement already satisfied: multidict<7.0,>=4.5 in /usr/local/lib/python3.7/dist-packages (from aiohttp->gcsfs==0.7.1->-r requirements.txt (line 4)) (6.0.2)\n",
            "Requirement already satisfied: aiosignal>=1.1.2 in /usr/local/lib/python3.7/dist-packages (from aiohttp->gcsfs==0.7.1->-r requirements.txt (line 4)) (1.2.0)\n",
            "Requirement already satisfied: attrs>=17.3.0 in /usr/local/lib/python3.7/dist-packages (from aiohttp->gcsfs==0.7.1->-r requirements.txt (line 4)) (21.4.0)\n",
            "Requirement already satisfied: async-timeout<5.0,>=4.0.0a3 in /usr/local/lib/python3.7/dist-packages (from aiohttp->gcsfs==0.7.1->-r requirements.txt (line 4)) (4.0.2)\n",
            "Requirement already satisfied: yarl<2.0,>=1.0 in /usr/local/lib/python3.7/dist-packages (from aiohttp->gcsfs==0.7.1->-r requirements.txt (line 4)) (1.7.2)\n",
            "Requirement already satisfied: frozenlist>=1.1.1 in /usr/local/lib/python3.7/dist-packages (from aiohttp->gcsfs==0.7.1->-r requirements.txt (line 4)) (1.3.0)\n",
            "Requirement already satisfied: asynctest==0.13.0 in /usr/local/lib/python3.7/dist-packages (from aiohttp->gcsfs==0.7.1->-r requirements.txt (line 4)) (0.13.0)\n",
            "Requirement already satisfied: requests-oauthlib>=0.7.0 in /usr/local/lib/python3.7/dist-packages (from google-auth-oauthlib->gcsfs==0.7.1->-r requirements.txt (line 4)) (1.3.1)\n",
            "Requirement already satisfied: oauthlib>=3.0.0 in /usr/local/lib/python3.7/dist-packages (from requests-oauthlib>=0.7.0->google-auth-oauthlib->gcsfs==0.7.1->-r requirements.txt (line 4)) (3.2.0)\n"
          ]
        }
      ]
    },
    {
      "cell_type": "code",
      "metadata": {
        "id": "JMeJPR90b3AN",
        "colab": {
          "base_uri": "https://localhost:8080/"
        },
        "outputId": "05b1bfb6-4caf-4d26-ab92-ce6f70cde509"
      },
      "source": [
        "%%writefile predict.py\n",
        "\n",
        "from __future__ import absolute_import\n",
        "from __future__ import print_function\n",
        "\n",
        "import argparse\n",
        "import requests\n",
        "import json\n",
        "import sys\n",
        "\n",
        "import apache_beam as beam\n",
        "import apache_beam.transforms.window as window\n",
        "from apache_beam.options.pipeline_options import (\n",
        "    GoogleCloudOptions,\n",
        "    StandardOptions,\n",
        "    PipelineOptions,\n",
        "    SetupOptions,\n",
        ")\n",
        "from loguru import logger\n",
        "\n",
        "\n",
        "class Predict(beam.DoFn):\n",
        "    def __init__(self, predict_server) -> None:\n",
        "        self.url = predict_server\n",
        "\n",
        "    def _predict(self, text) -> str:\n",
        "        payload = {\"text\": text}\n",
        "        headers = {\"accept\": \"application/json\", \"Content-Type\": \"application/json\"}\n",
        "        try:\n",
        "            response = requests.post(\n",
        "                self.url, data=json.dumps(payload), headers=headers\n",
        "            )\n",
        "            response = json.loads(response.text)\n",
        "        except Exception:\n",
        "            response = {\"label\": \"undefined\", \"score\": 0, \"elapsed_time\": 0}\n",
        "\n",
        "        return response\n",
        "\n",
        "    def process(self, element, window=beam.DoFn.WindowParam):\n",
        "        logger.info(f\"Text to predict: {element}\")\n",
        "        result = self._predict(element)\n",
        "        result[\"text\"] = element\n",
        "        yield json.dumps(result)\n",
        "\n",
        "\n",
        "def run(predict_server, source, sink, beam_options=None):\n",
        "    with beam.Pipeline(options=beam_options) as p:\n",
        "        _ = (\n",
        "            p\n",
        "            | \"Read data from PubSub\" >> source\n",
        "            | \"decode\" >> beam.Map(lambda x: x.decode(\"utf-8\"))\n",
        "            | \"window\" >> beam.WindowInto(window.FixedWindows(15))\n",
        "            | \"Predict\" >> beam.ParDo(Predict(predict_server))\n",
        "            | \"encode\" >> beam.Map(lambda x: x.encode(\"utf-8\")).with_output_types(bytes)\n",
        "            | \"Write predictions\" >> sink\n",
        "        )\n",
        "\n",
        "\n",
        "if __name__ == \"__main__\":\n",
        "    \"\"\"Main function\"\"\"\n",
        "    parser = argparse.ArgumentParser(\n",
        "        formatter_class=argparse.ArgumentDefaultsHelpFormatter\n",
        "    )\n",
        "\n",
        "    parser.add_argument(\n",
        "        \"--inputs_topic\",\n",
        "        dest=\"inputs_topic\",\n",
        "        required=True,\n",
        "        help=\"Directory for temporary files and preprocessed datasets to. \"\n",
        "        \"This can be a Google Cloud Storage path.\",\n",
        "    )\n",
        "\n",
        "    parser.add_argument(\n",
        "        \"--outputs_topic\",\n",
        "        dest=\"outputs_topic\",\n",
        "        required=True,\n",
        "        help=\"Directory for temporary files and preprocessed datasets to. \"\n",
        "        \"This can be a Google Cloud Storage path.\",\n",
        "    )\n",
        "\n",
        "    parser.add_argument(\n",
        "        \"--predict_server\",\n",
        "        dest=\"predict_server\",\n",
        "        required=True,\n",
        "        help=\"Directory for temporary files and preprocessed datasets to. \"\n",
        "        \"This can be a Google Cloud Storage path.\",\n",
        "    )\n",
        "\n",
        "    args, pipeline_args = parser.parse_known_args()\n",
        "    logger.info(args)\n",
        "    beam_options = PipelineOptions(pipeline_args)\n",
        "    beam_options.view_as(SetupOptions).save_main_session = True\n",
        "    # beam_options.view_as(DirectOptions).direct_num_workers = 0\n",
        "\n",
        "    project = beam_options.view_as(GoogleCloudOptions).project\n",
        "\n",
        "    if not project:\n",
        "        parser.print_usage()\n",
        "        print(\"error: argument --project is required for streaming\")\n",
        "        sys.exit(1)\n",
        "\n",
        "    beam_options.view_as(StandardOptions).streaming = True\n",
        "\n",
        "    source = beam.io.ReadFromPubSub(\n",
        "        topic=\"projects/{}/topics/{}\".format(project, args.inputs_topic)\n",
        "    ).with_output_types(bytes)\n",
        "\n",
        "    sink = beam.io.WriteToPubSub(\n",
        "        topic=\"projects/{}/topics/{}\".format(project, args.outputs_topic)\n",
        "    )\n",
        "\n",
        "    run(args.predict_server, source, sink, beam_options)\n"
      ],
      "execution_count": 27,
      "outputs": [
        {
          "output_type": "stream",
          "name": "stdout",
          "text": [
            "Writing predict.py\n"
          ]
        }
      ]
    },
    {
      "cell_type": "code",
      "metadata": {
        "id": "jT_Qmb16hgEq",
        "colab": {
          "base_uri": "https://localhost:8080/"
        },
        "outputId": "a0e0ab6a-91fb-4c6d-f96b-2142f68895b1"
      },
      "source": [
        "%%writefile setup.py\n",
        "\n",
        "import setuptools\n",
        "\n",
        "REQUIRED_PACKAGES = [\n",
        "    \"apache-beam[gcp]==2.24.0\",\n",
        "    \"fsspec==0.8.4\",\n",
        "    \"gcsfs==0.7.1\",\n",
        "    \"loguru==0.5.3\",\n",
        "]\n",
        "\n",
        "setuptools.setup(\n",
        "    name=\"twitchstreaming\",\n",
        "    version=\"0.0.1\",\n",
        "    install_requires=REQUIRED_PACKAGES,\n",
        "    packages=setuptools.find_packages(),\n",
        "    include_package_data=True,\n",
        "    description=\"Twitch Troll Detection\",\n",
        ")"
      ],
      "execution_count": 28,
      "outputs": [
        {
          "output_type": "stream",
          "name": "stdout",
          "text": [
            "Writing setup.py\n"
          ]
        }
      ]
    },
    {
      "cell_type": "markdown",
      "metadata": {
        "id": "-RdyxvdVHmnZ"
      },
      "source": [
        "### Validación inferencia en streaming\n",
        "\n",
        "Con el comando mostrado a continuación se genera un job en streaming de Dataflow. Antes de ejecutarlo, deberás crear dos topicos en Pub/Sub, `twitch-chat` donde se recibirán los mensajes de twitch, y `twitch-chat-predictions` donde se mandarán las predicciones generadas por vuestro microservicio.\n",
        "\n",
        "**Importante**: no te olvides de modificar la URL de tu microservicio de inferencia."
      ]
    },
    {
      "cell_type": "code",
      "metadata": {
        "id": "9j4vzFn2wUPk"
      },
      "source": [
        "GCP_WORK_DIR = 'gs://final-practice-test-execution'\n",
        "GCP_REGION = 'us-east1'"
      ],
      "execution_count": 30,
      "outputs": []
    },
    {
      "cell_type": "code",
      "source": [
        "https://troll-detection-online-service-gqlslm5ycq-no.a.run.app"
      ],
      "metadata": {
        "id": "DUORX4eYITjr"
      },
      "execution_count": null,
      "outputs": []
    },
    {
      "cell_type": "code",
      "metadata": {
        "id": "S5ftKoXAhiJ7",
        "colab": {
          "base_uri": "https://localhost:8080/"
        },
        "outputId": "a37b1b5b-e420-421d-c94b-bc5720c91bfd"
      },
      "source": [
        "! python3 predict.py \\\n",
        "--project $PROJECT_ID \\\n",
        "--region $GCP_REGION \\\n",
        "--runner DataflowRunner \\\n",
        "--temp_location $GCP_WORK_DIR/beam-temp \\\n",
        "--setup_file ./setup.py \\\n",
        "--inputs_topic twitch-chat \\\n",
        "--outputs_topic twitch-chat-predictions \\\n",
        "--predict_server https://troll-detection-online-service-gqlslm5ycq-no.a.run.app/api/model/predict \\"
      ],
      "execution_count": 48,
      "outputs": [
        {
          "output_type": "stream",
          "name": "stdout",
          "text": [
            "python3: can't open file 'predict.py': [Errno 2] No such file or directory\n"
          ]
        }
      ]
    }
  ]
}